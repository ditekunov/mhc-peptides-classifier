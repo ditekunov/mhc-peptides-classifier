{
 "cells": [
  {
   "cell_type": "markdown",
   "metadata": {
    "collapsed": true
   },
   "source": [
    "At first, let's import everything necessary:"
   ]
  },
  {
   "cell_type": "code",
   "execution_count": 2,
   "metadata": {},
   "outputs": [],
   "source": [
    "import pandas as pd\n",
    "import numpy as np\n",
    "import numpy as np\n",
    "import pandas as pd\n",
    "from numpy import array\n",
    "from numpy import argmax\n",
    "from sklearn.preprocessing import LabelEncoder\n",
    "from sklearn.preprocessing import OneHotEncoder\n",
    "from sklearn import model_selection\n",
    "import matplotlib.pyplot as plt\n",
    "from sklearn.preprocessing import StandardScaler\n",
    "from sklearn.linear_model import LinearRegression\n",
    "from sklearn.linear_model import LogisticRegression\n",
    "from sklearn.metrics import accuracy_score, roc_auc_score\n",
    "from sklearn.metrics import roc_curve, precision_recall_curve\n",
    "from sklearn.ensemble import RandomForestClassifier\n",
    "from sklearn.tree import DecisionTreeClassifier\n",
    "from sklearn.ensemble import BaggingClassifier\n",
    "from sklearn.neighbors import KNeighborsClassifier\n",
    "from sklearn.ensemble import RandomForestClassifier\n",
    "import seaborn as sns\n",
    "from sklearn.metrics import f1_score\n",
    "import time"
   ]
  },
  {
   "cell_type": "markdown",
   "metadata": {},
   "source": [
    "Now read the data:"
   ]
  },
  {
   "cell_type": "code",
   "execution_count": 4,
   "metadata": {},
   "outputs": [
    {
     "name": "stdout",
     "output_type": "stream",
     "text": [
      "        mhc   sequence      meas  pep_class\n0  HLAA0101  AADFPGIAR  0.084687          0\n1  HLAA0101  AADKAAAAY  0.638438          1\n2  HLAA0101  AADSFATSY  0.599135          1\n3  HLAA0101  AAFLDDNAF  0.084687          0\n4  HLAA0101  AAGLPAIFV  0.084687          0\n0    0\n1    1\n2    1\n3    0\n4    0\nName: pep_class, dtype: int64\n"
     ]
    }
   ],
   "source": [
    "train_csv = pd.read_csv(\"mhc_train.csv\")\n",
    "\n",
    "print(train_csv[0:5])\n",
    "\n",
    "y = train_csv.pep_class\n",
    "\n",
    "print(y[0:5])"
   ]
  },
  {
   "cell_type": "markdown",
   "metadata": {},
   "source": [
    "Let's build histograms for mhc:"
   ]
  },
  {
   "cell_type": "code",
   "execution_count": 7,
   "metadata": {},
   "outputs": [
    {
     "data": {
      "image/png": "[encoded data removed]",
      "text/plain": [
       "<matplotlib.figure.Figure at 0x10afe12e8>"
      ]
     },
     "metadata": {},
     "output_type": "display_data"
    }
   ],
   "source": [
    "plt.figure(figsize=(12,4))\n",
    "sns.countplot(y=train_csv['mhc'], \n",
    "              palette='rainbow',\n",
    "              order=train_csv['mhc'].value_counts().index)\n",
    "plt.show()"
   ]
  },
  {
   "cell_type": "markdown",
   "metadata": {},
   "source": [
    "Now let's split the \"sequence\" feature to diffrenet features and encode them."
   ]
  },
  {
   "cell_type": "code",
   "execution_count": 61,
   "metadata": {},
   "outputs": [
    {
     "name": "stdout",
     "output_type": "stream",
     "text": [
      "   mhc   sequence      meas  pep_class seq_1 seq_2 seq_3 seq_4 seq_5 seq_6  \\\n0    0  AADFPGIAR  0.084687          0     A     A     D     F     P     G   \n1    0  AADKAAAAY  0.638438          1     A     A     D     K     A     A   \n2    0  AADSFATSY  0.599135          1     A     A     D     S     F     A   \n3    0  AAFLDDNAF  0.084687          0     A     A     F     L     D     D   \n4    0  AAGLPAIFV  0.084687          0     A     A     G     L     P     A   \n\n  seq_7 seq_8 seq_9  \n0     I     A     R  \n1     A     A     Y  \n2     T     S     Y  \n3     N     A     F  \n4     I     F     V  \n"
     ]
    },
    {
     "name": "stdout",
     "output_type": "stream",
     "text": [
      "   mhc  seq_1  seq_2  seq_3  seq_4  seq_5  seq_6  seq_7  seq_8  seq_9\n0    0      0      0      2      4     12      5      7      0     14\n1    0      0      0      2      8      0      0      0      0     19\n2    0      0      0      2     15      4      0     16     15     19\n3    0      0      0      4      9      2      2     11      0      4\n4    0      0      0      5      9     12      0      7      4     17\n"
     ]
    }
   ],
   "source": [
    "from sklearn.preprocessing import LabelEncoder\n",
    "from sklearn.model_selection import train_test_split\n",
    "from sklearn.preprocessing import OneHotEncoder\n",
    "\n",
    "train_csv['seq_1'], train_csv['seq_2'], train_csv['seq_3'], train_csv['seq_4'],\\\n",
    "    train_csv['seq_5'], train_csv['seq_6'], train_csv['seq_7'], train_csv['seq_8'], train_csv['seq_9']= list(train_csv['sequence'].str)\n",
    "\n",
    "\n",
    "print(train_csv[0:5])\n",
    "\n",
    "\n",
    "columns = ['mhc', 'seq_1', 'seq_2', 'seq_3', 'seq_4',\n",
    "       'seq_5', 'seq_6', 'seq_7', 'seq_8', 'seq_9']\n",
    "\n",
    "\n",
    "def encoder(df):\n",
    "    for col in columns:\n",
    "        label_encoder = LabelEncoder()\n",
    "        label_encoder.fit(df[col])\n",
    "        df[col] = label_encoder.transform(df[col])\n",
    "    return df\n",
    "\n",
    "# def encoder(df):\n",
    "#     for col in columns:\n",
    "#         label_encoder = OneHotEncoder()\n",
    "#         label_encoder.fit(df[col])\n",
    "#         df[col] = label_encoder.transform(df[col])\n",
    "#     return df\n",
    "\n",
    "train_csv = encoder(train_csv)\n",
    "\n",
    "y = train_csv['pep_class']\n",
    "X = train_csv.drop('pep_class', axis=1)\n",
    "X = X.drop('sequence', axis=1)\n",
    "X = X.drop('meas', axis=1)\n",
    "\n",
    "print(X[0:5])\n",
    "\n",
    "X_train, X_test, y_train, y_test = train_test_split(X, y, test_size=0.3,\n",
    "                                                    random_state=0, stratify=y)"
   ]
  },
  {
   "cell_type": "markdown",
   "metadata": {},
   "source": [
    "Now, let's represent the minimum outcome quality of our model:"
   ]
  },
  {
   "cell_type": "code",
   "execution_count": 6,
   "metadata": {},
   "outputs": [
    {
     "data": {
      "image/png": "[encoded data removed]",
      "text/plain": [
       "<matplotlib.figure.Figure at 0x10b85a0b8>"
      ]
     },
     "metadata": {},
     "output_type": "display_data"
    }
   ],
   "source": [
    "labels = [\"Binded\",'Not binded']\n",
    "values = train_csv['pep_class'].value_counts().values\n",
    "fig1, ax1 = plt.subplots()\n",
    "ax1.pie(values, labels=labels,  autopct='%1.1f%%')\n",
    "plt.show()"
   ]
  },
  {
   "cell_type": "markdown",
   "metadata": {},
   "source": [
    "So, the minimum outcome accuracy should be 77,3%.\n",
    "\n",
    "Also, let's represent dependency of the 'meas' feature with the target class:"
   ]
  },
  {
   "cell_type": "markdown",
   "metadata": {},
   "source": [
    "Now let's represent dependenncy of meas and mhc:"
   ]
  },
  {
   "cell_type": "code",
   "execution_count": 18,
   "metadata": {},
   "outputs": [
    {
     "data": {
      "text/plain": [
       "<matplotlib.axes._subplots.AxesSubplot at 0x114c88c18>"
      ]
     },
     "execution_count": 18,
     "metadata": {},
     "output_type": "execute_result"
    },
    {
     "data": {
      "image/png": "[encoded data removed]",
      "text/plain": [
       "<matplotlib.figure.Figure at 0x114c04b38>"
      ]
     },
     "metadata": {},
     "output_type": "display_data"
    }
   ],
   "source": [
    "sns.pointplot(x=\"mhc\", y=\"meas\", data=train_csv)"
   ]
  },
  {
   "cell_type": "markdown",
   "metadata": {},
   "source": [
    "Let's start with linear regression:"
   ]
  },
  {
   "cell_type": "code",
   "execution_count": 62,
   "metadata": {},
   "outputs": [
    {
     "name": "stdout",
     "output_type": "stream",
     "text": [
      "             precision    recall  f1-score   support\n\n          0       0.77      1.00      0.87     21045\n          1       0.00      0.00      0.00      6210\n\navg / total       0.60      0.77      0.67     27255\n\n"
     ]
    },
    {
     "name": "stderr",
     "output_type": "stream",
     "text": [
      "/usr/local/lib/python3.6/site-packages/sklearn/metrics/classification.py:1135: UndefinedMetricWarning: Precision and F-score are ill-defined and being set to 0.0 in labels with no predicted samples.\n  'precision', 'predicted', average, warn_for)\n"
     ]
    }
   ],
   "source": [
    "from sklearn.metrics import classification_report\n",
    "\n",
    "classifier1 = LinearRegression()\n",
    "classifier1.fit(X_train, y_train)\n",
    "\n",
    "predict = classifier1.predict(X_test)\n",
    "\n",
    "print(classification_report(y_test, predict > 0.5))"
   ]
  },
  {
   "cell_type": "markdown",
   "metadata": {},
   "source": [
    "Continue with kNN:"
   ]
  },
  {
   "cell_type": "code",
   "execution_count": 128,
   "metadata": {},
   "outputs": [
    {
     "name": "stdout",
     "output_type": "stream",
     "text": [
      "Predicted with  2  neighbours\n"
     ]
    },
    {
     "name": "stdout",
     "output_type": "stream",
     "text": [
      "Accuracy is:  0.8028251696936342\n"
     ]
    },
    {
     "name": "stdout",
     "output_type": "stream",
     "text": [
      "Predicted with  3  neighbours\n"
     ]
    },
    {
     "name": "stdout",
     "output_type": "stream",
     "text": [
      "Accuracy is:  0.7890295358649789\n"
     ]
    },
    {
     "name": "stdout",
     "output_type": "stream",
     "text": [
      "Predicted with  4  neighbours\n"
     ]
    },
    {
     "name": "stdout",
     "output_type": "stream",
     "text": [
      "Accuracy is:  0.796147495872317\n"
     ]
    },
    {
     "name": "stdout",
     "output_type": "stream",
     "text": [
      "Predicted with  5  neighbours\n"
     ]
    },
    {
     "name": "stdout",
     "output_type": "stream",
     "text": [
      "Accuracy is:  0.787011557512383\n"
     ]
    },
    {
     "name": "stdout",
     "output_type": "stream",
     "text": [
      "Predicted with  6  neighbours\n"
     ]
    },
    {
     "name": "stdout",
     "output_type": "stream",
     "text": [
      "Accuracy is:  0.7893964410199963\n"
     ]
    },
    {
     "name": "stdout",
     "output_type": "stream",
     "text": [
      "Predicted with  7  neighbours\n"
     ]
    },
    {
     "name": "stdout",
     "output_type": "stream",
     "text": [
      "Accuracy is:  0.7844432214272611\n"
     ]
    },
    {
     "name": "stdout",
     "output_type": "stream",
     "text": [
      "Predicted with  8  neighbours\n"
     ]
    },
    {
     "name": "stdout",
     "output_type": "stream",
     "text": [
      "Accuracy is:  0.786167675655843\n"
     ]
    },
    {
     "name": "stdout",
     "output_type": "stream",
     "text": [
      "Predicted with  9  neighbours\n"
     ]
    },
    {
     "name": "stdout",
     "output_type": "stream",
     "text": [
      "Accuracy is:  0.7843698403962576\n"
     ]
    },
    {
     "name": "stdout",
     "output_type": "stream",
     "text": [
      "Predicted with  10  neighbours\n"
     ]
    },
    {
     "name": "stdout",
     "output_type": "stream",
     "text": [
      "Accuracy is:  0.786461199779857\n"
     ]
    },
    {
     "name": "stdout",
     "output_type": "stream",
     "text": [
      "Predicted with  11  neighbours\n"
     ]
    },
    {
     "name": "stdout",
     "output_type": "stream",
     "text": [
      "Accuracy is:  0.7833058154467071\n"
     ]
    },
    {
     "name": "stdout",
     "output_type": "stream",
     "text": [
      "Predicted with  12  neighbours\n"
     ]
    },
    {
     "name": "stdout",
     "output_type": "stream",
     "text": [
      "Accuracy is:  0.78715831957439\n"
     ]
    },
    {
     "name": "stdout",
     "output_type": "stream",
     "text": [
      "Predicted with  13  neighbours\n"
     ]
    },
    {
     "name": "stdout",
     "output_type": "stream",
     "text": [
      "Accuracy is:  0.784296459365254\n"
     ]
    },
    {
     "name": "stdout",
     "output_type": "stream",
     "text": [
      "Predicted with  14  neighbours\n"
     ]
    },
    {
     "name": "stdout",
     "output_type": "stream",
     "text": [
      "Accuracy is:  0.7852871032838011\n"
     ]
    },
    {
     "name": "stdout",
     "output_type": "stream",
     "text": [
      "Predicted with  15  neighbours\n"
     ]
    },
    {
     "name": "stdout",
     "output_type": "stream",
     "text": [
      "Accuracy is:  0.7827187671986792\n"
     ]
    },
    {
     "name": "stdout",
     "output_type": "stream",
     "text": [
      "Predicted with  16  neighbours\n"
     ]
    },
    {
     "name": "stdout",
     "output_type": "stream",
     "text": [
      "Accuracy is:  0.7838928636947349\n"
     ]
    },
    {
     "name": "stdout",
     "output_type": "stream",
     "text": [
      "Predicted with  17  neighbours\n"
     ]
    },
    {
     "name": "stdout",
     "output_type": "stream",
     "text": [
      "Accuracy is:  0.7823518620436617\n"
     ]
    },
    {
     "name": "stdout",
     "output_type": "stream",
     "text": [
      "Predicted with  18  neighbours\n"
     ]
    },
    {
     "name": "stdout",
     "output_type": "stream",
     "text": [
      "Accuracy is:  0.7833791964777105\n"
     ]
    },
    {
     "name": "stdout",
     "output_type": "stream",
     "text": [
      "Predicted with  19  neighbours\n"
     ]
    },
    {
     "name": "stdout",
     "output_type": "stream",
     "text": [
      "Accuracy is:  0.7824252430746652\n"
     ]
    }
   ],
   "source": [
    "list_of_predictions_knn = list()\n",
    "list_of_test_results_knn = list()\n",
    "list_of_train_results_knn = list()\n",
    "list_of_f_knn = list()\n",
    "\n",
    "for i in range(2, 20):\n",
    "    knn = KNeighborsClassifier(n_neighbors=i)\n",
    "    knn.fit(X_train, y_train)\n",
    "    knn_predict = knn.predict(X_train)\n",
    "    list_of_predictions_knn.append(knn_predict)\n",
    "    list_of_test_results_knn.append(knn.score(X_test, y_test))\n",
    "    #list_of_train_results_knn.append(knn.score(X_train, y_train))\n",
    "    list_of_f_knn.append(f1_score(y_train, knn_predict > 0.5))\n",
    "    print(\"Predicted with \", i, \" neighbours\")\n",
    "    print(\"Accuracy is: \", knn.score(X_test, y_test))"
   ]
  },
  {
   "cell_type": "code",
   "execution_count": 129,
   "metadata": {},
   "outputs": [
    {
     "name": "stdout",
     "output_type": "stream",
     "text": [
      "Max test result:  0.8028251696936342  takes  1  neighbors\nMax test f-measure:  0.7212520720095603  takes  2  neighbors\n"
     ]
    },
    {
     "data": {
      "text/plain": [
       "<matplotlib.collections.PathCollection at 0x11b88a8d0>"
      ]
     },
     "execution_count": 129,
     "metadata": {},
     "output_type": "execute_result"
    },
    {
     "data": {
      "image/png": "[encoded data removed]",
      "text/plain": [
       "<matplotlib.figure.Figure at 0x11af0a048>"
      ]
     },
     "metadata": {},
     "output_type": "display_data"
    }
   ],
   "source": [
    "print(\"Max test result: \", max(list_of_test_results_knn), \n",
    "      \" takes \", (list_of_test_results_knn.index(max(list_of_test_results_knn))+1), \" neighbors\")\n",
    "\n",
    "plt.scatter(x=list((range(2, 20))), y=list_of_test_results_knn)\n",
    "\n",
    "print(\"Max test f-measure: \", max(list_of_f_knn), \n",
    "      \" takes \", (list_of_f_knn.index(max(list_of_f_knn))+1), \" neighbors\")\n",
    "\n",
    "plt.scatter(x=list((range(2, 20))), y=list_of_f_knn)"
   ]
  },
  {
   "cell_type": "markdown",
   "metadata": {},
   "source": [
    "And try again with a bigger step to look deeper."
   ]
  },
  {
   "cell_type": "code",
   "execution_count": 130,
   "metadata": {},
   "outputs": [
    {
     "name": "stdout",
     "output_type": "stream",
     "text": [
      "Predicted with  10  neighbours\n"
     ]
    },
    {
     "name": "stdout",
     "output_type": "stream",
     "text": [
      "Accuracy is:  0.786461199779857\n"
     ]
    },
    {
     "name": "stdout",
     "output_type": "stream",
     "text": [
      "Predicted with  20  neighbours\n"
     ]
    },
    {
     "name": "stdout",
     "output_type": "stream",
     "text": [
      "Accuracy is:  0.7826453861676756\n"
     ]
    },
    {
     "name": "stdout",
     "output_type": "stream",
     "text": [
      "Predicted with  30  neighbours\n"
     ]
    },
    {
     "name": "stdout",
     "output_type": "stream",
     "text": [
      "Accuracy is:  0.7812144560631077\n"
     ]
    },
    {
     "name": "stdout",
     "output_type": "stream",
     "text": [
      "Predicted with  40  neighbours\n"
     ]
    },
    {
     "name": "stdout",
     "output_type": "stream",
     "text": [
      "Accuracy is:  0.779600073381031\n"
     ]
    },
    {
     "name": "stdout",
     "output_type": "stream",
     "text": [
      "Predicted with  50  neighbours\n"
     ]
    },
    {
     "name": "stdout",
     "output_type": "stream",
     "text": [
      "Accuracy is:  0.7789396441019997\n"
     ]
    },
    {
     "name": "stdout",
     "output_type": "stream",
     "text": [
      "Predicted with  60  neighbours\n"
     ]
    },
    {
     "name": "stdout",
     "output_type": "stream",
     "text": [
      "Accuracy is:  0.7778756191524491\n"
     ]
    },
    {
     "name": "stdout",
     "output_type": "stream",
     "text": [
      "Predicted with  70  neighbours\n"
     ]
    },
    {
     "name": "stdout",
     "output_type": "stream",
     "text": [
      "Accuracy is:  0.7771051183269125\n"
     ]
    },
    {
     "name": "stdout",
     "output_type": "stream",
     "text": [
      "Predicted with  80  neighbours\n"
     ]
    },
    {
     "name": "stdout",
     "output_type": "stream",
     "text": [
      "Accuracy is:  0.7768482847184003\n"
     ]
    },
    {
     "name": "stdout",
     "output_type": "stream",
     "text": [
      "Predicted with  90  neighbours\n"
     ]
    },
    {
     "name": "stdout",
     "output_type": "stream",
     "text": [
      "Accuracy is:  0.777031737295909\nMax test result:  0.786461199779857  takes  10  neighbors\nMax test f-measure:  0.38554466739254417  takes  10  neighbors\n"
     ]
    },
    {
     "data": {
      "text/plain": [
       "<matplotlib.collections.PathCollection at 0x118d5b908>"
      ]
     },
     "execution_count": 130,
     "metadata": {},
     "output_type": "execute_result"
    },
    {
     "data": {
      "image/png": "[encoded data removed]",
      "text/plain": [
       "<matplotlib.figure.Figure at 0x117c749e8>"
      ]
     },
     "metadata": {},
     "output_type": "display_data"
    }
   ],
   "source": [
    "list_of_predictions_knn = list()\n",
    "list_of_test_results_knn = list()\n",
    "list_of_train_results_knn = list()\n",
    "list_of_f_knn = list()\n",
    "\n",
    "for i in range(10, 100, 10):\n",
    "    knn = KNeighborsClassifier(n_neighbors=i)\n",
    "    knn.fit(X_train, y_train)\n",
    "    knn_predict = knn.predict(X_train)\n",
    "    list_of_predictions_knn.append(knn_predict)\n",
    "    list_of_test_results_knn.append(knn.score(X_test, y_test))\n",
    "    #list_of_train_results_knn.append(knn.score(X_train, y_train))\n",
    "    list_of_f_knn.append(f1_score(y_train, knn_predict > 0.5))\n",
    "    print(\"Predicted with \", i, \" neighbours\")\n",
    "    print(\"Accuracy is: \", knn.score(X_test, y_test))\n",
    "    \n",
    "    \n",
    "print(\"Max test result: \", max(list_of_test_results_knn), \n",
    "      \" takes \", (list_of_test_results_knn.index(max(list_of_test_results_knn))+1)*10, \" neighbors\")\n",
    "\n",
    "plt.scatter(x=list((range(10, 100, 10))), y=list_of_test_results_knn)\n",
    "\n",
    "print(\"Max test f-measure: \", max(list_of_f_knn), \n",
    "      \" takes \", (list_of_f_knn.index(max(list_of_f_knn))+1)*10, \" neighbors\")\n",
    "\n",
    "plt.scatter(x=list((range(10, 100, 10))), y=list_of_f_knn)"
   ]
  },
  {
   "cell_type": "markdown",
   "metadata": {},
   "source": [
    "Magic didn't happen and next classifier we'll try to use is Logistic Regression:"
   ]
  },
  {
   "cell_type": "code",
   "execution_count": 134,
   "metadata": {},
   "outputs": [
    {
     "name": "stdout",
     "output_type": "stream",
     "text": [
      "Train result: 0.7721518987341772\nAccuracy: 0.7721518987341772\n######################################################\n"
     ]
    },
    {
     "data": {
      "text/plain": [
       "[<matplotlib.lines.Line2D at 0x11bca59b0>]"
      ]
     },
     "execution_count": 134,
     "metadata": {},
     "output_type": "execute_result"
    },
    {
     "data": {
      "image/png": "[encoded data removed]",
      "text/plain": [
       "<matplotlib.figure.Figure at 0x11ae520b8>"
      ]
     },
     "metadata": {},
     "output_type": "display_data"
    }
   ],
   "source": [
    "logistic_model = LogisticRegression()\n",
    "\n",
    "logistic_model.fit(X_train, y_train)\n",
    "\n",
    "prediction = logistic_model.predict(X_test)\n",
    "\n",
    "#print(\"Test result:\", logistic_model.score(X_test, y_test))\n",
    "\n",
    "print(\"Train result:\", logistic_model.score(X_train, y_train))\n",
    "\n",
    "print(\"Accuracy:\", accuracy_score(y_test, prediction > 0.5))\n",
    "\n",
    "#print(\"AUC-ROC:\", roc_auc_score(y_test, prediction))\n",
    "\n",
    "#print(\"F-measure: \", f1_score(y_test, prediction))\n",
    "\n",
    "print(\"######################################################\")\n",
    "logistic_model_proba = LogisticRegression()\n",
    "\n",
    "logistic_model_proba.fit(X_train, y_train)\n",
    "\n",
    "prediction_proba = logistic_model.predict_proba(X_test)\n",
    "\n",
    "\n",
    "# Now let's create the ROC-curve and PR-curve to represent our model\n",
    "plt.xlabel(\"False Positive Rate\")\n",
    "plt.ylabel(\"True Positive Rate\")\n",
    "fpr, tpr, _ = roc_curve(y_test, prediction)\n",
    "acc = logistic_model.score(X_test, y_test)\n",
    "auc = roc_auc_score(y_test, prediction_proba[:, 1])\n",
    "plt.plot(fpr, tpr, label=\"acc:%.2f auc:%.2f\" % (acc, auc), linewidth=3)\n",
    "plt.legend(loc=\"best\")\n",
    "\n",
    "precision, recall, thresholds = precision_recall_curve(y_test, prediction_proba[:, 1])\n",
    "\n",
    "#plt.plot(fpr, tpr)\n",
    "\n",
    "plt.plot(recall, precision)"
   ]
  },
  {
   "cell_type": "markdown",
   "metadata": {},
   "source": [
    "Next step we'll take is DecisionTree model:"
   ]
  },
  {
   "cell_type": "code",
   "execution_count": 78,
   "metadata": {},
   "outputs": [
    {
     "name": "stdout",
     "output_type": "stream",
     "text": [
      "Test result (accuracy): 0.8191891396074115\nAccuracy: 0.8191891396074115\nAUC-ROC: 0.7473825928565772\nF-measure:  0.6080178173719376\n######################################################\n"
     ]
    },
    {
     "name": "stdout",
     "output_type": "stream",
     "text": [
      "Accuracy: 0.8191891396074115\nAUC-ROC: 0.7473825928565772\n"
     ]
    }
   ],
   "source": [
    "decision_tree = DecisionTreeClassifier(random_state=3)\n",
    "\n",
    "decision_tree.fit(X_train, y_train)\n",
    "\n",
    "prediction_tree = decision_tree.predict(X_test)\n",
    "\n",
    "print(\"Test result (accuracy):\", decision_tree.score(X_test, y_test))\n",
    "\n",
    "print(\"Accuracy:\", accuracy_score(y_test, prediction_tree))\n",
    "\n",
    "auc_roc_tree = roc_auc_score(y_test, prediction_tree)\n",
    "\n",
    "print(\"AUC-ROC:\", auc_roc_tree)\n",
    "\n",
    "print(\"F-measure: \", f1_score(y_test, prediction_tree > 0.48))\n",
    "\n",
    "print(\"######################################################\")\n",
    "decision_tree_proba = DecisionTreeClassifier(random_state=3)\n",
    "\n",
    "decision_tree_proba.fit(X_train, y_train)\n",
    "\n",
    "prediction_tree_proba = decision_tree_proba.predict_proba(X_test)[:, 1]\n",
    "\n",
    "print(\"Accuracy:\", accuracy_score(y_test, prediction_tree_proba > 0.5))\n",
    "\n",
    "auc_roc_tree = roc_auc_score(y_test, prediction_tree_proba)\n",
    "\n",
    "print(\"AUC-ROC:\", auc_roc_tree)"
   ]
  },
  {
   "cell_type": "markdown",
   "metadata": {},
   "source": [
    "Let's try to use bagging in addition:"
   ]
  },
  {
   "cell_type": "code",
   "execution_count": 79,
   "metadata": {},
   "outputs": [
    {
     "name": "stdout",
     "output_type": "stream",
     "text": [
      "######################################################\n"
     ]
    },
    {
     "name": "stdout",
     "output_type": "stream",
     "text": [
      "Accuracy: 0.8588882773802972\nAUC-ROC: 0.8994036014383718\nF-measure:  0.6628359264497877\n"
     ]
    }
   ],
   "source": [
    "bagging = BaggingClassifier(base_estimator=DecisionTreeClassifier(random_state=3), n_estimators=100)\n",
    "\n",
    "bagging.fit(X_train, y_train)\n",
    "\n",
    "prediction_bagging = bagging.predict(X_test)\n",
    "\n",
    "auc_roc_tree = roc_auc_score(y_test, prediction_bagging)\n",
    "\n",
    "print(\"######################################################\")\n",
    "bagging_proba = BaggingClassifier(base_estimator=DecisionTreeClassifier(random_state=3), n_estimators=100)\n",
    "\n",
    "bagging_proba.fit(X_train, y_train)\n",
    "\n",
    "prediction_bagging_proba = bagging_proba.predict_proba(X_test)[:, 1]\n",
    "\n",
    "print(\"Accuracy:\", accuracy_score(y_test, prediction_bagging_proba > 0.5))\n",
    "\n",
    "auc_roc_tree = roc_auc_score(y_test, prediction_bagging_proba)\n",
    "\n",
    "print(\"AUC-ROC:\", auc_roc_tree)\n",
    "\n",
    "print(\"F-measure: \", f1_score(y_test, prediction_bagging > 0.48))"
   ]
  },
  {
   "cell_type": "markdown",
   "metadata": {},
   "source": [
    "Let's continue and bootstrap our sample:"
   ]
  },
  {
   "cell_type": "markdown",
   "metadata": {},
   "source": [
    "And finally, let's use Random Forest classifier:"
   ]
  },
  {
   "cell_type": "code",
   "execution_count": 125,
   "metadata": {},
   "outputs": [
    {
     "name": "stdout",
     "output_type": "stream",
     "text": [
      "Number of trees: 50\nPrediction completed by 5.0 %\nTook  9.351861953735352  seconds\n--------------------\n"
     ]
    },
    {
     "name": "stdout",
     "output_type": "stream",
     "text": [
      "Number of trees: 150\nPrediction completed by 15.0 %\nTook  36.12915086746216  seconds\n--------------------\n"
     ]
    },
    {
     "name": "stdout",
     "output_type": "stream",
     "text": [
      "Number of trees: 250\nPrediction completed by 25.0 %\nTook  80.27787804603577  seconds\n--------------------\n"
     ]
    },
    {
     "name": "stdout",
     "output_type": "stream",
     "text": [
      "Number of trees: 350\nPrediction completed by 35.0 %\nTook  142.2970950603485  seconds\n--------------------\n"
     ]
    },
    {
     "name": "stdout",
     "output_type": "stream",
     "text": [
      "Number of trees: 450\nPrediction completed by 45.0 %\nTook  222.05153822898865  seconds\n--------------------\n"
     ]
    },
    {
     "name": "stdout",
     "output_type": "stream",
     "text": [
      "Number of trees: 550\nPrediction completed by 55.0 %\nTook  319.376992225647  seconds\n--------------------\n"
     ]
    },
    {
     "name": "stdout",
     "output_type": "stream",
     "text": [
      "Number of trees: 650\nPrediction completed by 65.0 %\nTook  434.7843670845032  seconds\n--------------------\n"
     ]
    },
    {
     "name": "stdout",
     "output_type": "stream",
     "text": [
      "Number of trees: 750\nPrediction completed by 75.0 %\nTook  569.8850998878479  seconds\n--------------------\n"
     ]
    },
    {
     "name": "stdout",
     "output_type": "stream",
     "text": [
      "Number of trees: 850\nPrediction completed by 85.0 %\nTook  720.1504199504852  seconds\n--------------------\n"
     ]
    },
    {
     "name": "stdout",
     "output_type": "stream",
     "text": [
      "Number of trees: 950\nPrediction completed by 95.0 %\nTook  888.8089919090271  seconds\n--------------------\n"
     ]
    },
    {
     "name": "stdout",
     "output_type": "stream",
     "text": [
      "Prediction completed by 100%\nPrediction took  1866.1729080677032  seconds\n"
     ]
    }
   ],
   "source": [
    "test_forest_results = list()\n",
    "train_forest_results = list()\n",
    "accuracy_forest_results = list()\n",
    "auc_roc_forest_results = list()\n",
    "forest_f_results = list()\n",
    "time_list = list()\n",
    "\n",
    "accuracy_forest_results_proba = list()\n",
    "auc_roc_forest_results_proba = list()\n",
    "\n",
    "start = time.time()\n",
    "cur_time = start\n",
    "\n",
    "for j in range(50, 1010, 50):\n",
    "    \n",
    "    decision_forest = RandomForestClassifier(random_state=3, n_estimators=j)\n",
    "    decision_forest_proba = RandomForestClassifier(random_state=3, n_estimators=j)\n",
    "\n",
    "    decision_forest.fit(X_train, y_train)\n",
    "    \n",
    "    decision_forest_proba.fit(X_train, y_train)\n",
    "\n",
    "    prediction_forest = decision_forest.predict(X_test)\n",
    "    \n",
    "    prediction_forest_pr = decision_forest_proba.predict_proba(X_test)[:, 1]\n",
    "\n",
    "    test_forest_results.append(decision_forest.score(X_test, y_test))\n",
    "\n",
    "    train_forest_results.append(decision_forest.score(X_train, y_train))\n",
    "\n",
    "    accuracy_forest_results.append(accuracy_score(y_test, prediction_forest))\n",
    "    \n",
    "    accuracy_forest_results_proba.append(accuracy_score(y_test, prediction_forest_pr > 0.5))\n",
    "\n",
    "    auc_roc_forest = roc_auc_score(y_test, prediction_forest)\n",
    "    \n",
    "    forest_f_results.append(f1_score(y_test, prediction_forest > 0.5))\n",
    "\n",
    "    auc_roc_forest_results.append(auc_roc_forest)\n",
    "    auc_roc_forest_results_proba.append(roc_auc_score(y_test, prediction_forest_pr))\n",
    "    if j % 50 == 0:\n",
    "        cur_time = time.time() - cur_time\n",
    "        if j % 100 != 0:\n",
    "            time_list.append(cur_time)\n",
    "            print('Number of trees:', j)\n",
    "            print(\"Prediction completed by\", j/10, \"%\")\n",
    "            print(\"Took \", cur_time, \" seconds\")\n",
    "            print(\"--------------------\")\n",
    "print(\"Prediction completed by 100%\")\n",
    "finish = time.time() - start\n",
    "\n",
    "print(\"Prediction took \", finish, \" seconds\")"
   ]
  },
  {
   "cell_type": "code",
   "execution_count": 126,
   "metadata": {},
   "outputs": [
    {
     "name": "stdout",
     "output_type": "stream",
     "text": [
      "Max test result:  0.8455696202531645  takes  900  trees\nMax accuracy result:  0.8455696202531645  takes  900  trees\nMax auc-roc result:  0.7337029117499538  takes  900  trees\nMax accuracy result with proba:  0.8455696202531645  takes  900  trees\nMax auc-roc result with proba:  0.8902886116668177  takes  900  trees\nMax F-measure:  0.609155910483796  takes  900  trees\n"
     ]
    },
    {
     "data": {
      "image/png": "[encoded data removed]",
      "text/plain": [
       "<matplotlib.figure.Figure at 0x10aba3a90>"
      ]
     },
     "metadata": {},
     "output_type": "display_data"
    },
    {
     "data": {
      "image/png": "[encoded data removed]",
      "text/plain": [
       "<matplotlib.figure.Figure at 0x11af59198>"
      ]
     },
     "metadata": {},
     "output_type": "display_data"
    },
    {
     "data": {
      "image/png": "[encoded data removed]",
      "text/plain": [
       "<matplotlib.figure.Figure at 0x10ac95cf8>"
      ]
     },
     "metadata": {},
     "output_type": "display_data"
    },
    {
     "name": "stdout",
     "output_type": "stream",
     "text": [
      "Time taken via number of trees:\n"
     ]
    },
    {
     "data": {
      "image/png": "[encoded data removed]",
      "text/plain": [
       "<matplotlib.figure.Figure at 0x117c823c8>"
      ]
     },
     "metadata": {},
     "output_type": "display_data"
    }
   ],
   "source": [
    "print(\"Max test result: \", max(test_forest_results), \" takes \", (test_forest_results.index(max(test_forest_results))+1)*50, \" trees\")\n",
    "\n",
    "print(\"Max accuracy result: \", max(accuracy_forest_results), \" takes \", (accuracy_forest_results.index(max(accuracy_forest_results))+1)*50, \" trees\")\n",
    "\n",
    "print(\"Max auc-roc result: \", max(auc_roc_forest_results), \" takes \", (auc_roc_forest_results.index(max(auc_roc_forest_results))+1)*50, \" trees\")\n",
    "\n",
    "print(\"Max accuracy result with proba: \", max(accuracy_forest_results_proba), \" takes \", (accuracy_forest_results.index(max(accuracy_forest_results))+1)*50, \" trees\")\n",
    "\n",
    "print(\"Max auc-roc result with proba: \", max(auc_roc_forest_results_proba), \" takes \", (auc_roc_forest_results.index(max(auc_roc_forest_results))+1)*50, \" trees\")\n",
    "\n",
    "print(\"Max F-measure: \", max(forest_f_results), \" takes \", (forest_f_results.index(max(forest_f_results))+1)*50, \" trees\")\n",
    "\n",
    "\n",
    "plt.scatter(x=list((range(1, 21))), y=auc_roc_forest_results)\n",
    "plt.show()\n",
    "plt.scatter(x=list((range(1, 21))), y=auc_roc_forest_results_proba)\n",
    "plt.show()\n",
    "plt.scatter(x=list((range(1, 21))), y=forest_f_results)\n",
    "plt.show()\n",
    "\n",
    "print(\"Time taken via number of trees:\")\n",
    "plt.scatter(x=list(range(0, 10)), y=time_list)\n",
    "plt.show()"
   ]
  },
  {
   "cell_type": "code",
   "execution_count": 116,
   "metadata": {},
   "outputs": [
    {
     "name": "stdout",
     "output_type": "stream",
     "text": [
      "Number of trees: 50\nPrediction completed by 5.0 %\n--------------------\n"
     ]
    },
    {
     "name": "stdout",
     "output_type": "stream",
     "text": [
      "Number of trees: 150\nPrediction completed by 15.0 %\n--------------------\n"
     ]
    },
    {
     "name": "stdout",
     "output_type": "stream",
     "text": [
      "Number of trees: 250\nPrediction completed by 25.0 %\n--------------------\n"
     ]
    },
    {
     "name": "stdout",
     "output_type": "stream",
     "text": [
      "Number of trees: 350\nPrediction completed by 35.0 %\n--------------------\n"
     ]
    },
    {
     "name": "stdout",
     "output_type": "stream",
     "text": [
      "Number of trees: 450\nPrediction completed by 45.0 %\n--------------------\n"
     ]
    },
    {
     "name": "stdout",
     "output_type": "stream",
     "text": [
      "Prediction completed by 100%\nPrediction took  1102.1020929813385  seconds\n"
     ]
    }
   ],
   "source": [
    "test_forest_results = list()\n",
    "train_forest_results = list()\n",
    "accuracy_forest_results = list()\n",
    "auc_roc_forest_results = list()\n",
    "forest_f_results = list()\n",
    "time_list = list()\n",
    "\n",
    "accuracy_forest_results_proba = list()\n",
    "auc_roc_forest_results_proba = list()\n",
    "\n",
    "start = time.time()\n",
    "cur_time = start\n",
    "\n",
    "for j in range(50, 500, 20):\n",
    "    \n",
    "    decision_forest = RandomForestClassifier(random_state=3, n_estimators=j)\n",
    "    decision_forest_proba = RandomForestClassifier(random_state=3, n_estimators=j)\n",
    "\n",
    "    decision_forest.fit(X_train, y_train)\n",
    "    \n",
    "    decision_forest_proba.fit(X_train, y_train)\n",
    "\n",
    "    prediction_forest = decision_forest.predict(X_test)\n",
    "    \n",
    "    prediction_forest_pr = decision_forest_proba.predict_proba(X_test)[:, 1]\n",
    "\n",
    "    test_forest_results.append(decision_forest.score(X_test, y_test))\n",
    "\n",
    "    train_forest_results.append(decision_forest.score(X_train, y_train))\n",
    "\n",
    "    accuracy_forest_results.append(accuracy_score(y_test, prediction_forest))\n",
    "    \n",
    "    accuracy_forest_results_proba.append(accuracy_score(y_test, prediction_forest_pr > 0.5))\n",
    "\n",
    "    auc_roc_forest = roc_auc_score(y_test, prediction_forest)\n",
    "    \n",
    "    forest_f_results.append(f1_score(y_test, prediction_forest > 0.5))\n",
    "\n",
    "    auc_roc_forest_results.append(auc_roc_forest)\n",
    "    auc_roc_forest_results_proba.append(roc_auc_score(y_test, prediction_forest_pr))\n",
    "    if j % 50 == 0:\n",
    "        cur_time = time.time() - cur_time\n",
    "        if j % 100 != 0:\n",
    "            time_list.append(cur_time)\n",
    "            print('Number of trees:', j)\n",
    "            print(\"Prediction completed by\", j/10, \"%\")\n",
    "            #print(\"Took \", cur_time, \" seconds\")\n",
    "            print(\"--------------------\")\n",
    "print(\"Prediction completed by 100%\")\n",
    "finish = time.time() - start\n",
    "\n",
    "print(\"Prediction took \", finish, \" seconds\")"
   ]
  },
  {
   "cell_type": "code",
   "execution_count": 124,
   "metadata": {},
   "outputs": [
    {
     "name": "stdout",
     "output_type": "stream",
     "text": [
      "Max test result:  0.8452760961291507  takes  440  trees\nMax accuracy result:  0.8452760961291507  takes  440  trees\nMax auc-roc result:  0.7328317626250627  takes  440  trees\nMax accuracy result with proba:  0.8452760961291507  takes  440  trees\nMax auc-roc result with proba:  0.8895557483790772  takes  440  trees\nMax F-measure:  0.6078303729191854  takes  440  trees\n"
     ]
    },
    {
     "data": {
      "image/png": "[encoded data removed]",
      "text/plain": [
       "<matplotlib.figure.Figure at 0x1168a1b70>"
      ]
     },
     "metadata": {},
     "output_type": "display_data"
    },
    {
     "data": {
      "image/png": "[encoded data removed]",
      "text/plain": [
       "<matplotlib.figure.Figure at 0x11bcb1a20>"
      ]
     },
     "metadata": {},
     "output_type": "display_data"
    },
    {
     "data": {
      "image/png": "[encoded data removed]",
      "text/plain": [
       "<matplotlib.figure.Figure at 0x11ae13fd0>"
      ]
     },
     "metadata": {},
     "output_type": "display_data"
    }
   ],
   "source": [
    "print(\"Max test result: \", max(test_forest_results), \" takes \", (test_forest_results.index(max(test_forest_results))+1)*20, \" trees\")\n",
    "\n",
    "print(\"Max accuracy result: \", max(accuracy_forest_results), \" takes \", (accuracy_forest_results.index(max(accuracy_forest_results))+1)*20, \" trees\")\n",
    "\n",
    "print(\"Max auc-roc result: \", max(auc_roc_forest_results), \" takes \", (auc_roc_forest_results.index(max(auc_roc_forest_results))+1)*20, \" trees\")\n",
    "\n",
    "print(\"Max accuracy result with proba: \", max(accuracy_forest_results_proba), \" takes \", (accuracy_forest_results.index(max(accuracy_forest_results))+1)*20, \" trees\")\n",
    "\n",
    "print(\"Max auc-roc result with proba: \", max(auc_roc_forest_results_proba), \" takes \", (auc_roc_forest_results.index(max(auc_roc_forest_results))+1)*20, \" trees\")\n",
    "\n",
    "print(\"Max F-measure: \", max(forest_f_results), \" takes \", (forest_f_results.index(max(forest_f_results))+1)*20, \" trees\")\n",
    "\n",
    "\n",
    "plt.scatter(x=list((range(1, 24))), y=auc_roc_forest_results)\n",
    "plt.show()\n",
    "plt.scatter(x=list((range(1, 24))), y=auc_roc_forest_results_proba)\n",
    "plt.show()\n",
    "plt.scatter(x=list((range(1, 24))), y=forest_f_results)\n",
    "plt.show()"
   ]
  },
  {
   "cell_type": "markdown",
   "metadata": {},
   "source": [
    "I suppose that the number of trees can be increased infinitely, as soon as you have computing power and the quality of a model will increase.\n",
    "\n",
    "Let's check this hypothesis by increasing the number of trees to an enormous value:"
   ]
  },
  {
   "cell_type": "code",
   "execution_count": 137,
   "metadata": {},
   "outputs": [
    {
     "name": "stdout",
     "output_type": "stream",
     "text": [
      "Prediction completed by 100%\nPrediction took  3636.70028591156  seconds\n"
     ]
    }
   ],
   "source": [
    "test_forest_results = list()\n",
    "train_forest_results = list()\n",
    "accuracy_forest_results = list()\n",
    "auc_roc_forest_results = list()\n",
    "forest_f_results = list()\n",
    "time_list = list()\n",
    "\n",
    "accuracy_forest_results_proba = list()\n",
    "auc_roc_forest_results_proba = list()\n",
    "\n",
    "start = time.time()\n",
    "cur_time = start\n",
    "\n",
    "for j in range(5000, 7001, 1000):\n",
    "    \n",
    "    decision_forest = RandomForestClassifier(random_state=3, n_estimators=j)\n",
    "    decision_forest_proba = RandomForestClassifier(random_state=3, n_estimators=j)\n",
    "\n",
    "    decision_forest.fit(X_train, y_train)\n",
    "    \n",
    "    decision_forest_proba.fit(X_train, y_train)\n",
    "\n",
    "    prediction_forest = decision_forest.predict(X_test)\n",
    "    \n",
    "    prediction_forest_pr = decision_forest_proba.predict_proba(X_test)[:, 1]\n",
    "\n",
    "    test_forest_results.append(decision_forest.score(X_test, y_test))\n",
    "\n",
    "    train_forest_results.append(decision_forest.score(X_train, y_train))\n",
    "\n",
    "    accuracy_forest_results.append(accuracy_score(y_test, prediction_forest))\n",
    "    \n",
    "    accuracy_forest_results_proba.append(accuracy_score(y_test, prediction_forest_pr > 0.5))\n",
    "\n",
    "    auc_roc_forest = roc_auc_score(y_test, prediction_forest)\n",
    "    \n",
    "    forest_f_results.append(f1_score(y_test, prediction_forest > 0.5))\n",
    "\n",
    "    auc_roc_forest_results.append(auc_roc_forest)\n",
    "    auc_roc_forest_results_proba.append(roc_auc_score(y_test, prediction_forest_pr))\n",
    "print(\"Prediction completed by 100%\")\n",
    "finish = time.time() - start\n",
    "\n",
    "print(\"Prediction took \", finish, \" seconds\")"
   ]
  },
  {
   "cell_type": "code",
   "execution_count": 140,
   "metadata": {},
   "outputs": [
    {
     "name": "stdout",
     "output_type": "stream",
     "text": [
      "Max test result:  0.8456796917996697  takes  6000  trees\nMax accuracy result:  0.8456796917996697  takes  6000  trees\nMax auc-roc result:  0.7340579710144929  takes  6000  trees\nMax accuracy result with proba:  0.8456796917996697  takes  6000  trees\nMax auc-roc result with proba:  0.890784332629757  takes  6000  trees\nMax F-measure:  0.6096881959910914  takes  6000  trees\n"
     ]
    },
    {
     "data": {
      "image/png": "[encoded data removed]",
      "text/plain": [
       "<matplotlib.figure.Figure at 0x11bddad30>"
      ]
     },
     "metadata": {},
     "output_type": "display_data"
    },
    {
     "data": {
      "image/png": "[encoded data removed]",
      "text/plain": [
       "<matplotlib.figure.Figure at 0x1169a8470>"
      ]
     },
     "metadata": {},
     "output_type": "display_data"
    },
    {
     "data": {
      "image/png": "[encoded data removed]",
      "text/plain": [
       "<matplotlib.figure.Figure at 0x1166e14e0>"
      ]
     },
     "metadata": {},
     "output_type": "display_data"
    }
   ],
   "source": [
    "print(\"Max test result: \", max(test_forest_results), \" takes \", (test_forest_results.index(max(test_forest_results))+1)*1000 + 5000, \" trees\")\n",
    "\n",
    "print(\"Max accuracy result: \", max(accuracy_forest_results), \" takes \", (accuracy_forest_results.index(max(accuracy_forest_results))+1)*1000 + 5000, \" trees\")\n",
    "\n",
    "print(\"Max auc-roc result: \", max(auc_roc_forest_results), \" takes \", (auc_roc_forest_results.index(max(auc_roc_forest_results))+1)*1000 + 5000, \" trees\")\n",
    "\n",
    "print(\"Max accuracy result with proba: \", max(accuracy_forest_results_proba), \" takes \", (accuracy_forest_results.index(max(accuracy_forest_results))+1)*1000 + 5000, \" trees\")\n",
    "\n",
    "print(\"Max auc-roc result with proba: \", max(auc_roc_forest_results_proba), \" takes \", (auc_roc_forest_results.index(max(auc_roc_forest_results))+1)*1000 + 5000, \" trees\")\n",
    "\n",
    "print(\"Max F-measure: \", max(forest_f_results), \" takes \", (forest_f_results.index(max(forest_f_results))+1)*1000 + 5000, \" trees\")\n",
    "\n",
    "\n",
    "plt.scatter(x=list((range(1, 4))), y=auc_roc_forest_results)\n",
    "plt.show()\n",
    "plt.scatter(x=list((range(1, 4))), y=auc_roc_forest_results_proba)\n",
    "plt.show()\n",
    "plt.scatter(x=list((range(1, 4))), y=forest_f_results)\n",
    "plt.show()"
   ]
  },
  {
   "cell_type": "markdown",
   "metadata": {},
   "source": [
    "As we can see, the hypothesis confirmed, but the model did not increased well.\n",
    "\n",
    "So the best approach is to teach the model, depending on how much time/computing power you can afford to reach the best quality."
   ]
  },
  {
   "cell_type": "markdown",
   "metadata": {},
   "source": [
    "Finally, let's take a look at importances of different features:"
   ]
  },
  {
   "cell_type": "code",
   "execution_count": 142,
   "metadata": {},
   "outputs": [
    {
     "name": "stdout",
     "output_type": "stream",
     "text": [
      "[0.29467865 0.07666893 0.10727357 0.07514679 0.07268197 0.07130399\n 0.07281346 0.0733637  0.07148079 0.08458815]\n"
     ]
    },
    {
     "data": {
      "text/plain": [
       "<matplotlib.collections.PathCollection at 0x115b79400>"
      ]
     },
     "execution_count": 142,
     "metadata": {},
     "output_type": "execute_result"
    },
    {
     "data": {
      "image/png": "[encoded data removed]",
      "text/plain": [
       "<matplotlib.figure.Figure at 0x115b39f60>"
      ]
     },
     "metadata": {},
     "output_type": "display_data"
    }
   ],
   "source": [
    "importances = list(decision_forest.feature_importances_)\n",
    "\n",
    "number = list(range(0, 10, 1))\n",
    "\n",
    "print(decision_forest.feature_importances_)\n",
    "\n",
    "plt.scatter(x=number, y=importances)"
   ]
  },
  {
   "cell_type": "markdown",
   "metadata": {},
   "source": [
    "This is quite interesting, seems like different mhc codes give different rate of a peptide class."
   ]
  }
 ],
 "metadata": {
  "kernelspec": {
   "display_name": "Python 2",
   "language": "python",
   "name": "python2"
  },
  "language_info": {
   "codemirror_mode": {
    "name": "ipython",
    "version": 2.0
   },
   "file_extension": ".py",
   "mimetype": "text/x-python",
   "name": "python",
   "nbconvert_exporter": "python",
   "pygments_lexer": "ipython2",
   "version": "2.7.6"
  }
 },
 "nbformat": 4,
 "nbformat_minor": 0
}
