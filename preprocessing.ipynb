{
 "cells": [
  {
   "cell_type": "markdown",
   "metadata": {
    "collapsed": true
   },
   "source": [
    "At first, we'll import necessary modules, read the data and represent first 5 rows of it:"
   ]
  },
  {
   "cell_type": "code",
   "execution_count": 4,
   "metadata": {},
   "outputs": [],
   "source": [
    "import numpy as np\n",
    "import pandas as pd\n",
    "import matplotlib as mpl"
   ]
  },
  {
   "cell_type": "code",
   "execution_count": 5,
   "metadata": {},
   "outputs": [
    {
     "name": "stdout",
     "output_type": "stream",
     "text": [
      "        mhc   sequence      meas  pep_class\n0  HLAA0101  AADFPGIAR  0.084687          0\n1  HLAA0101  AADKAAAAY  0.638438          1\n2  HLAA0101  AADSFATSY  0.599135          1\n3  HLAA0101  AAFLDDNAF  0.084687          0\n4  HLAA0101  AAGLPAIFV  0.084687          0\n"
     ]
    }
   ],
   "source": [
    "train_csv_raw = pd.read_csv(\"/Users/daniiltekunov/Desktop/mhc/mhc_train.csv\")\n",
    "\n",
    "print(train_csv_raw[0:5])"
   ]
  },
  {
   "cell_type": "markdown",
   "metadata": {},
   "source": [
    "Now we'll pre-process this data to represent qualitative features space.\n",
    "\n",
    "Firstly, we'll delete an ejection, that was detected after visual data analysis - element 90849 HLAE0101, that has an 'E' letter in its mhc code. Inasmuch as this element is just 0.0011% of the whole dataset, we'll remove it to reduce possible features space by coverting [0,0,0] feature to Boolean."
   ]
  },
  {
   "cell_type": "code",
   "execution_count": 6,
   "metadata": {},
   "outputs": [],
   "source": [
    "train_csv = train_csv_raw[train_csv_raw.mhc != \"HLAE0101\"]"
   ]
  },
  {
   "cell_type": "markdown",
   "metadata": {},
   "source": [
    "After that we can start creating features space, where we'll use the following methods:\n",
    "\n",
    "1) Data normalization\n",
    "\n",
    "2) Changing the dimension of a vector space via One-hot encoding\n",
    "\n",
    "We'll start with the protein structure:\n",
    "\n",
    "* *HLA* - constant value\n",
    "\n",
    "* *A* - depends on the structure of the protein, can be 'A' or 'B', after removing the ejection nominally Boolean\n",
    "\n",
    "* *0101* - A four-digit number, that changes from 0101 to 9901"
   ]
  },
  {
   "cell_type": "code",
   "execution_count": null,
   "metadata": {},
   "outputs": [],
   "source": [
    ""
   ]
  }
 ],
 "metadata": {
  "kernelspec": {
   "display_name": "Python 2",
   "language": "python",
   "name": "python2"
  },
  "language_info": {
   "codemirror_mode": {
    "name": "ipython",
    "version": 2.0
   },
   "file_extension": ".py",
   "mimetype": "text/x-python",
   "name": "python",
   "nbconvert_exporter": "python",
   "pygments_lexer": "ipython2",
   "version": "2.7.6"
  }
 },
 "nbformat": 4,
 "nbformat_minor": 0
}