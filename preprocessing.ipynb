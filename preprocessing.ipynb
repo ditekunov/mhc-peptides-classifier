{
 "cells": [
  {
   "cell_type": "markdown",
   "metadata": {
    "collapsed": true
   },
   "source": [
    "At first, we'll import necessary modules, read the data and represent first 5 rows of it:"
   ]
  },
  {
   "cell_type": "code",
   "execution_count": 2,
   "metadata": {},
   "outputs": [],
   "source": [
    "import numpy as np\n",
    "import pandas as pd\n",
    "import matplotlib as mpl"
   ]
  },
  {
   "cell_type": "code",
   "execution_count": 3,
   "metadata": {},
   "outputs": [
    {
     "name": "stdout",
     "output_type": "stream",
     "text": [
      "        mhc   sequence      meas  pep_class\n0  HLAA0101  AADFPGIAR  0.084687          0\n1  HLAA0101  AADKAAAAY  0.638438          1\n2  HLAA0101  AADSFATSY  0.599135          1\n3  HLAA0101  AAFLDDNAF  0.084687          0\n4  HLAA0101  AAGLPAIFV  0.084687          0\n"
     ]
    }
   ],
   "source": [
    "train_csv_raw = pd.read_csv(\"/Users/daniiltekunov/Desktop/mhc/mhc_train.csv\")\n",
    "\n",
    "print(train_csv_raw[0:5])"
   ]
  },
  {
   "cell_type": "markdown",
   "metadata": {},
   "source": [
    "Now we'll pre-process this data to represent qualitative features space.\n",
    "\n",
    "Firstly, we'll delete an ejection, that was detected after visual data analysis - element 90849 HLAE0101, that has an 'E' letter in its mhc code. Inasmuch as this element is just 0.0011% of the whole dataset, we'll remove it to reduce possible features space by coverting [0,0,0] feature to Boolean."
   ]
  },
  {
   "cell_type": "code",
   "execution_count": 4,
   "metadata": {},
   "outputs": [],
   "source": [
    "train_csv = train_csv_raw[train_csv_raw.mhc != \"HLAE0101\"]"
   ]
  },
  {
   "cell_type": "markdown",
   "metadata": {},
   "source": [
    "After that we can start creating features space, where we'll use the following methods:\n",
    "\n",
    "1) Data normalization\n",
    "\n",
    "2) Changing the dimension of a vector space via One-hot encoding\n",
    "\n",
    "###We'll start with the protein structure:\n",
    "\n",
    "* *HLA* - constant value\n",
    "\n",
    "* *A* - depends on the structure of the protein, can be 'A' or 'B', after removing the ejection nominally Boolean\n",
    "\n",
    "* *0101* - A four-digit number, that changes from 0101 to 9901"
   ]
  },
  {
   "cell_type": "markdown",
   "metadata": {},
   "source": [
    "After analysis with pandas, turns out, that the second digit in a number is always remains 0, which allows to reduce 4-digit number to a 3-digit one by the following method:\n",
    "\n",
    "* 0101 -> 011\n",
    "* 0202 -> 022\n",
    "* ...\n",
    "* 9901 -> 991\n",
    "\n",
    "Then, at first, there was a hypothesis, that this feature is numeric, so the first step was to normalize values:"
   ]
  },
  {
   "cell_type": "code",
   "execution_count": 12,
   "metadata": {},
   "outputs": [
    {
     "data": {
      "text/plain": [
       "0   -1.053061\n1   -1.053061\n2   -1.053061\n3   -1.053061\n4   -1.053061\ndtype: float64"
      ]
     },
     "execution_count": 12,
     "metadata": {},
     "output_type": "execute_result"
    }
   ],
   "source": [
    "length_of_train_csv = len(train_csv)\n",
    "\n",
    "\n",
    "def extract_ints_from_mhc(input_list):\n",
    "\n",
    "    outcome_list = list()\n",
    "\n",
    "    for i in range(0, length_of_train_csv):\n",
    "        outcome_list.append(int(input_list[i][4:7]))\n",
    "    return outcome_list\n",
    "\n",
    "\n",
    "def normalize(X):\n",
    "    return (X-X.mean())/X.std()\n",
    "\n",
    "normalize(pd.Series(extract_ints_from_mhc(listed_csv_mhc)))[:5]"
   ]
  },
  {
   "cell_type": "markdown",
   "metadata": {},
   "source": [
    "After better analysis, it was found out, that these values are ordinal and normalization won't work here."
   ]
  },
  {
   "cell_type": "markdown",
   "metadata": {},
   "source": [
    "### Now let's pre-process the 'sequence' feature:\n",
    "\n",
    "It contains 9 positions of the elements, using English alphabet letters.\n",
    "\n",
    "After better analysis, it was found that there are no codes with 'Z', 'X', 'J', 'U' and 'O', so we get 21 different elements at 9 positions.\n",
    "\n",
    "WIth One-hot encoding we get 21*9 = 189 Boolean features from '1A' to '9Y'"
   ]
  },
  {
   "cell_type": "markdown",
   "metadata": {},
   "source": [
    "### Now we finalize the features space:\n",
    "\n",
    "For HLAA0101 - AALEGLSGF it will be as following:\n",
    "\n",
    "{ 0,   \n",
    "1, # is HLAA == true   \n",
    "1, 0, 0, 0, 0, 0, 0, 0, 0, 0, 0, 0, 0, 0, 0, 0, 0, 0, 0, 0, 0, #1A   \n",
    "1, 0, 0, 0, 0, 0, 0, 0, 0, 0, 0, 0, 0, 0, 0, 0, 0, 0, 0, 0, 0, #2A   \n",
    "0, 0, 0, 0, 0, 0, 0, 0, 0, 0, 1, 0, 0, 0, 0, 0, 0, 0, 0, 0, 0, #3L   \n",
    "0, 0, 0, 0, 1, 0, 0, 0, 0, 0, 0, 0, 0, 0, 0, 0, 0, 0, 0, 0, 0, #4E   \n",
    "0, 0, 0, 0, 0, 0, 1, 0, 0, 0, 0, 0, 0, 0, 0, 0, 0, 0, 0, 0, 0, #5G   \n",
    "0, 0, 0, 0, 0, 0, 0, 0, 0, 0, 1, 0, 0, 0, 0, 0, 0, 0, 0, 0, 0, #6L   \n",
    "0, 0, 0, 0, 0, 0, 0, 0, 0, 0, 0, 0, 0, 0, 0, 0, 1, 0, 0, 0, 0, #7S   \n",
    "0, 0, 0, 0, 0, 0, 1, 0, 0, 0, 0, 0, 0, 0, 0, 0, 0, 0, 0, 0, 0, #8G   \n",
    "0, 0, 0, 0, 0, 1, 0, 0, 0, 0, 0, 0, 0, 0, 0, 0, 0, 0, 0, 0, 0, #9F   \n",
    "0.21281259490425353,  \n",
    "-1.729404 }  \n",
    "\n",
    "This is how we obtain necessary values:\n"
   ]
  },
  {
   "cell_type": "code",
   "execution_count": 16,
   "metadata": {},
   "outputs": [],
   "source": [
    "def encoding(input_list):\n",
    "    encoding_rules1 = {'A': (1, 0, 0, 0, 0, 0, 0, 0, 0, 0, 0, 0, 0, 0, 0, 0, 0, 0, 0, 0, 0),\n",
    "                       'B': (0, 1, 0, 0, 0, 0, 0, 0, 0, 0, 0, 0, 0, 0, 0, 0, 0, 0, 0, 0, 0),\n",
    "                       'C': (0, 0, 1, 0, 0, 0, 0, 0, 0, 0, 0, 0, 0, 0, 0, 0, 0, 0, 0, 0, 0),\n",
    "                       'D': (0, 0, 0, 1, 0, 0, 0, 0, 0, 0, 0, 0, 0, 0, 0, 0, 0, 0, 0, 0, 0),\n",
    "                       'E': (0, 0, 0, 0, 1, 0, 0, 0, 0, 0, 0, 0, 0, 0, 0, 0, 0, 0, 0, 0, 0),\n",
    "                       'F': (0, 0, 0, 0, 0, 1, 0, 0, 0, 0, 0, 0, 0, 0, 0, 0, 0, 0, 0, 0, 0),\n",
    "                       'G': (0, 0, 0, 0, 0, 0, 1, 0, 0, 0, 0, 0, 0, 0, 0, 0, 0, 0, 0, 0, 0),\n",
    "                       'H': (0, 0, 0, 0, 0, 0, 0, 1, 0, 0, 0, 0, 0, 0, 0, 0, 0, 0, 0, 0, 0),\n",
    "                       'I': (0, 0, 0, 0, 0, 0, 0, 0, 1, 0, 0, 0, 0, 0, 0, 0, 0, 0, 0, 0, 0),\n",
    "                       'K': (0, 0, 0, 0, 0, 0, 0, 0, 0, 1, 0, 0, 0, 0, 0, 0, 0, 0, 0, 0, 0),\n",
    "                       'L': (0, 0, 0, 0, 0, 0, 0, 0, 0, 0, 1, 0, 0, 0, 0, 0, 0, 0, 0, 0, 0),\n",
    "                       'M': (0, 0, 0, 0, 0, 0, 0, 0, 0, 0, 0, 1, 0, 0, 0, 0, 0, 0, 0, 0, 0),\n",
    "                       'N': (0, 0, 0, 0, 0, 0, 0, 0, 0, 0, 0, 0, 1, 0, 0, 0, 0, 0, 0, 0, 0),\n",
    "                       'P': (0, 0, 0, 0, 0, 0, 0, 0, 0, 0, 0, 0, 0, 1, 0, 0, 0, 0, 0, 0, 0),\n",
    "                       'Q': (0, 0, 0, 0, 0, 0, 0, 0, 0, 0, 0, 0, 0, 0, 1, 0, 0, 0, 0, 0, 0),\n",
    "                       'R': (0, 0, 0, 0, 0, 0, 0, 0, 0, 0, 0, 0, 0, 0, 0, 1, 0, 0, 0, 0, 0),\n",
    "                       'S': (0, 0, 0, 0, 0, 0, 0, 0, 0, 0, 0, 0, 0, 0, 0, 0, 1, 0, 0, 0, 0),\n",
    "                       'T': (0, 0, 0, 0, 0, 0, 0, 0, 0, 0, 0, 0, 0, 0, 0, 0, 0, 1, 0, 0, 0),\n",
    "                       'V': (0, 0, 0, 0, 0, 0, 0, 0, 0, 0, 0, 0, 0, 0, 0, 0, 0, 0, 1, 0, 0),\n",
    "                       'W': (0, 0, 0, 0, 0, 0, 0, 0, 0, 0, 0, 0, 0, 0, 0, 0, 0, 0, 0, 1, 0),\n",
    "                       'Y': (\n",
    "                       0, 0, 0, 0, 0, 0, 0, 0, 0, 0, 0, 0, 0, 0, 0, 0, 0, 0, 0, 0, 1)}  # Правила кодировки one-hot\n",
    "\n",
    "    encoding_rules2 = {1: 'A', 2: 'B', 3: 'C', 4: 'D',  \n",
    "                       5: 'E', 6: 'F', 7: 'G', 8: 'H',\n",
    "                       9: 'I', 10: 'K', 11: 'L', 12: 'M',\n",
    "                       13: 'N', 14: 'P', 15: 'Q', 16: 'R',\n",
    "                       17: 'S', 18: 'T', 19: 'V', 20: 'W',\n",
    "                       21: 'Y'}  \n",
    "\n",
    "    new_element = list()\n",
    "    encoded_list = list()\n",
    "\n",
    "    for i in range(0, length_of_train_csv):\n",
    "        for j in input_list[i]:\n",
    "            new_element.append(encoding_rules1[j])\n",
    "        encoded_list.append(new_element)\n",
    "        new_element = []\n",
    "\n",
    "    return encoded_list\n",
    "\n",
    "\n",
    "def extract_ints_from_mhc(input_list):\n",
    "\n",
    "    outcome_list = list()\n",
    "\n",
    "    for i in range(0, length_of_train_csv):\n",
    "        outcome_list.append(int(input_list[i][4:7]))\n",
    "    return outcome_list\n",
    "\n",
    "\n",
    "def extract_booleans_from_mhc(input_list):\n",
    "\n",
    "    outcome_list = list()\n",
    "\n",
    "    for i in range(0, length_of_train_csv):\n",
    "        if input_list[i][3] == 'A':\n",
    "            outcome_list.append(1)\n",
    "        else:\n",
    "            outcome_list.append(0)\n",
    "\n",
    "    return outcome_list"
   ]
  },
  {
   "cell_type": "markdown",
   "metadata": {},
   "source": [
    "With this data we can finally start creating the architecture of the neural network."
   ]
  }
 ],
 "metadata": {
  "kernelspec": {
   "display_name": "Python 2",
   "language": "python",
   "name": "python2"
  },
  "language_info": {
   "codemirror_mode": {
    "name": "ipython",
    "version": 2.0
   },
   "file_extension": ".py",
   "mimetype": "text/x-python",
   "name": "python",
   "nbconvert_exporter": "python",
   "pygments_lexer": "ipython2",
   "version": "2.7.6"
  }
 },
 "nbformat": 4,
 "nbformat_minor": 0
}