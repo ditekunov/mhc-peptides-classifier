{
 "cells": [
  {
   "cell_type": "markdown",
   "metadata": {
    "collapsed": true
   },
   "source": [
    "At first, let's import everything necessary:"
   ]
  },
  {
   "cell_type": "code",
   "execution_count": 2,
   "metadata": {},
   "outputs": [],
   "source": [
    "import pandas as pd\n",
    "import numpy as np\n",
    "import numpy as np\n",
    "import pandas as pd\n",
    "from numpy import array\n",
    "from numpy import argmax\n",
    "from sklearn.preprocessing import LabelEncoder\n",
    "from sklearn.preprocessing import OneHotEncoder\n",
    "from sklearn import model_selection\n",
    "import matplotlib.pyplot as plt\n",
    "from sklearn.preprocessing import StandardScaler\n",
    "from sklearn.linear_model import LinearRegression\n",
    "from sklearn.linear_model import LogisticRegression\n",
    "from sklearn.metrics import accuracy_score, roc_auc_score\n",
    "from sklearn.metrics import roc_curve, precision_recall_curve\n",
    "from sklearn.ensemble import RandomForestClassifier\n",
    "from sklearn.tree import DecisionTreeClassifier\n",
    "from sklearn.ensemble import BaggingClassifier\n",
    "from sklearn.neighbors import KNeighborsClassifier\n",
    "from sklearn.ensemble import RandomForestClassifier\n",
    "import seaborn as sns\n",
    "from sklearn.metrics import f1_score\n",
    "import time"
   ]
  },
  {
   "cell_type": "markdown",
   "metadata": {},
   "source": [
    "Now read the data:"
   ]
  },
  {
   "cell_type": "code",
   "execution_count": 3,
   "metadata": {},
   "outputs": [
    {
     "name": "stdout",
     "output_type": "stream",
     "text": [
      "        mhc   sequence      meas  pep_class\n0  HLAA0101  AADFPGIAR  0.084687          0\n1  HLAA0101  AADKAAAAY  0.638438          1\n2  HLAA0101  AADSFATSY  0.599135          1\n3  HLAA0101  AAFLDDNAF  0.084687          0\n4  HLAA0101  AAGLPAIFV  0.084687          0\n0    0\n1    1\n2    1\n3    0\n4    0\nName: pep_class, dtype: int64\n"
     ]
    }
   ],
   "source": [
    "train_csv = pd.read_csv(\"/Users/daniiltekunov/Desktop/mhc/mhc_train.csv\")\n",
    "\n",
    "print(train_csv[0:5])\n",
    "\n",
    "y = train_csv.pep_class\n",
    "\n",
    "print(y[0:5])"
   ]
  },
  {
   "cell_type": "markdown",
   "metadata": {},
   "source": [
    "And normalize it:"
   ]
  },
  {
   "cell_type": "code",
   "execution_count": 5,
   "metadata": {},
   "outputs": [
    {
     "name": "stdout",
     "output_type": "stream",
     "text": [
      "63595\n27255\n63595\n27255\n"
     ]
    }
   ],
   "source": [
    "divide_seed = np.random.randint(low=1)\n",
    "\n",
    "X_train, X_test, y_train, y_test = model_selection.train_test_split(\n",
    "    train_csv.meas, y, test_size=0.3, random_state=divide_seed)\n",
    "\n",
    "X_train = X_train.values.reshape(-1, 1)\n",
    "X_test = X_test.values.reshape(-1, 1)\n",
    "\n",
    "divide_seed = np.random.randint(low=1)\n",
    "\n",
    "scaler = StandardScaler()\n",
    "\n",
    "scaler.fit(X_train)\n",
    "X_train = scaler.transform(X_train)\n",
    "\n",
    "scaler.fit(X_test)\n",
    "X_test = scaler.transform(X_test)\n",
    "\n",
    "print(len(X_train))\n",
    "print(len(X_test))\n",
    "print(len(y_train))\n",
    "print(len(y_test))"
   ]
  },
  {
   "cell_type": "markdown",
   "metadata": {},
   "source": [
    "Now, let's represent the minimum outcome quality of our model:"
   ]
  },
  {
   "cell_type": "code",
   "execution_count": 6,
   "metadata": {},
   "outputs": [
    {
     "data": {
      "image/png": "[encoded data removed]",
      "text/plain": [
       "<matplotlib.figure.Figure at 0x10b85a0b8>"
      ]
     },
     "metadata": {},
     "output_type": "display_data"
    }
   ],
   "source": [
    "labels = [\"Binded\",'Not binded']\n",
    "values = train_csv['pep_class'].value_counts().values\n",
    "fig1, ax1 = plt.subplots()\n",
    "ax1.pie(values, labels=labels,  autopct='%1.1f%%')\n",
    "plt.show()"
   ]
  },
  {
   "cell_type": "markdown",
   "metadata": {},
   "source": [
    "So, the minimum outcome accuracy should be 77,3%.\n",
    "\n",
    "Also, let's represent dependency of the 'meas' feature with the target class:"
   ]
  },
  {
   "cell_type": "code",
   "execution_count": 7,
   "metadata": {},
   "outputs": [
    {
     "data": {
      "text/plain": [
       "<matplotlib.axes._subplots.AxesSubplot at 0x112f71c18>"
      ]
     },
     "execution_count": 7,
     "metadata": {},
     "output_type": "execute_result"
    },
    {
     "data": {
      "image/png": "[encoded data removed]",
      "text/plain": [
       "<matplotlib.figure.Figure at 0x10b231198>"
      ]
     },
     "metadata": {},
     "output_type": "display_data"
    }
   ],
   "source": [
    "sns.pointplot(x=\"pep_class\", y=\"meas\", data=train_csv)"
   ]
  },
  {
   "cell_type": "markdown",
   "metadata": {},
   "source": [
    "It is linear, so let's start with linear regression:"
   ]
  },
  {
   "cell_type": "code",
   "execution_count": 15,
   "metadata": {},
   "outputs": [
    {
     "name": "stdout",
     "output_type": "stream",
     "text": [
      "Test result:  0.8073951208670277\nTrain result:  0.8050109080757373\nF-measure:  0.9973040232268768\n"
     ]
    }
   ],
   "source": [
    "lr = LinearRegression()\n",
    "\n",
    "lr.fit(X_train, y_train)\n",
    "\n",
    "prediction_lr = lr.predict(X=X_train)\n",
    "\n",
    "print(\"Test result: \", lr.score(X_test, y_test))\n",
    "\n",
    "print(\"Train result: \", lr.score(X_train, y_train))\n",
    "\n",
    "print(\"F-measure: \", f1_score(y_train, prediction_lr > 0.48))"
   ]
  },
  {
   "cell_type": "markdown",
   "metadata": {},
   "source": [
    "Continue with kNN:"
   ]
  },
  {
   "cell_type": "code",
   "execution_count": 10,
   "metadata": {},
   "outputs": [
    {
     "name": "stdout",
     "output_type": "stream",
     "text": [
      "Predicted with  1  neighbours\n"
     ]
    },
    {
     "name": "stdout",
     "output_type": "stream",
     "text": [
      "Predicted with  2  neighbours\n"
     ]
    },
    {
     "name": "stdout",
     "output_type": "stream",
     "text": [
      "Predicted with  3  neighbours\n"
     ]
    },
    {
     "name": "stdout",
     "output_type": "stream",
     "text": [
      "Predicted with  4  neighbours\n"
     ]
    },
    {
     "name": "stdout",
     "output_type": "stream",
     "text": [
      "Predicted with  5  neighbours\n"
     ]
    },
    {
     "name": "stdout",
     "output_type": "stream",
     "text": [
      "Predicted with  6  neighbours\n"
     ]
    },
    {
     "name": "stdout",
     "output_type": "stream",
     "text": [
      "Predicted with  7  neighbours\n"
     ]
    },
    {
     "name": "stdout",
     "output_type": "stream",
     "text": [
      "Predicted with  8  neighbours\n"
     ]
    },
    {
     "name": "stdout",
     "output_type": "stream",
     "text": [
      "Predicted with  9  neighbours\n"
     ]
    },
    {
     "name": "stdout",
     "output_type": "stream",
     "text": [
      "Predicted with  10  neighbours\n"
     ]
    },
    {
     "name": "stdout",
     "output_type": "stream",
     "text": [
      "Predicted with  11  neighbours\n"
     ]
    },
    {
     "name": "stdout",
     "output_type": "stream",
     "text": [
      "Predicted with  12  neighbours\n"
     ]
    },
    {
     "name": "stdout",
     "output_type": "stream",
     "text": [
      "Predicted with  13  neighbours\n"
     ]
    },
    {
     "name": "stdout",
     "output_type": "stream",
     "text": [
      "Predicted with  14  neighbours\n"
     ]
    },
    {
     "name": "stdout",
     "output_type": "stream",
     "text": [
      "Predicted with  15  neighbours\n"
     ]
    },
    {
     "name": "stdout",
     "output_type": "stream",
     "text": [
      "Predicted with  16  neighbours\n"
     ]
    },
    {
     "name": "stdout",
     "output_type": "stream",
     "text": [
      "Predicted with  17  neighbours\n"
     ]
    },
    {
     "name": "stdout",
     "output_type": "stream",
     "text": [
      "Predicted with  18  neighbours\n"
     ]
    },
    {
     "name": "stdout",
     "output_type": "stream",
     "text": [
      "Predicted with  19  neighbours\n"
     ]
    },
    {
     "name": "stdout",
     "output_type": "stream",
     "text": [
      "Predicted with  20  neighbours\n"
     ]
    },
    {
     "name": "stdout",
     "output_type": "stream",
     "text": [
      "Predicted with  21  neighbours\n"
     ]
    },
    {
     "name": "stdout",
     "output_type": "stream",
     "text": [
      "Predicted with  22  neighbours\n"
     ]
    },
    {
     "name": "stdout",
     "output_type": "stream",
     "text": [
      "Predicted with  23  neighbours\n"
     ]
    },
    {
     "name": "stdout",
     "output_type": "stream",
     "text": [
      "Predicted with  24  neighbours\n"
     ]
    },
    {
     "name": "stdout",
     "output_type": "stream",
     "text": [
      "Predicted with  25  neighbours\n"
     ]
    },
    {
     "name": "stdout",
     "output_type": "stream",
     "text": [
      "Predicted with  26  neighbours\n"
     ]
    },
    {
     "name": "stdout",
     "output_type": "stream",
     "text": [
      "Predicted with  27  neighbours\n"
     ]
    },
    {
     "name": "stdout",
     "output_type": "stream",
     "text": [
      "Predicted with  28  neighbours\n"
     ]
    },
    {
     "name": "stdout",
     "output_type": "stream",
     "text": [
      "Predicted with  29  neighbours\n"
     ]
    },
    {
     "name": "stdout",
     "output_type": "stream",
     "text": [
      "Predicted with  30  neighbours\n"
     ]
    },
    {
     "name": "stdout",
     "output_type": "stream",
     "text": [
      "Predicted with  31  neighbours\n"
     ]
    },
    {
     "name": "stdout",
     "output_type": "stream",
     "text": [
      "Predicted with  32  neighbours\n"
     ]
    },
    {
     "name": "stdout",
     "output_type": "stream",
     "text": [
      "Predicted with  33  neighbours\n"
     ]
    },
    {
     "name": "stdout",
     "output_type": "stream",
     "text": [
      "Predicted with  34  neighbours\n"
     ]
    },
    {
     "name": "stdout",
     "output_type": "stream",
     "text": [
      "Predicted with  35  neighbours\n"
     ]
    },
    {
     "name": "stdout",
     "output_type": "stream",
     "text": [
      "Predicted with  36  neighbours\n"
     ]
    },
    {
     "name": "stdout",
     "output_type": "stream",
     "text": [
      "Predicted with  37  neighbours\n"
     ]
    },
    {
     "name": "stdout",
     "output_type": "stream",
     "text": [
      "Predicted with  38  neighbours\n"
     ]
    },
    {
     "name": "stdout",
     "output_type": "stream",
     "text": [
      "Predicted with  39  neighbours\n"
     ]
    }
   ],
   "source": [
    "list_of_predictions_knn = list()\n",
    "list_of_test_results_knn = list()\n",
    "list_of_train_results_knn = list()\n",
    "list_of_f_knn = list()\n",
    "\n",
    "for i in range(1, 40):\n",
    "    knn = KNeighborsClassifier(n_neighbors=i)\n",
    "    knn.fit(X_train, y_train)\n",
    "    knn_predict = knn.predict(X_train)\n",
    "    list_of_predictions_knn.append(knn_predict)\n",
    "    list_of_test_results_knn.append(knn.score(X_test, y_test))\n",
    "    list_of_train_results_knn.append(knn.score(X_train, y_train))\n",
    "    list_of_f_knn.append(f1_score(y_train, knn_predict > 0.48))\n",
    "    print(\"Predicted with \", i, \" neighbours\")"
   ]
  },
  {
   "cell_type": "code",
   "execution_count": 16,
   "metadata": {},
   "outputs": [
    {
     "name": "stdout",
     "output_type": "stream",
     "text": [
      "Max test result:  0.998862594019446  takes  1  neighbors\nMax test f-measure:  1.0  takes  1  neighbors\n"
     ]
    },
    {
     "data": {
      "text/plain": [
       "<matplotlib.collections.PathCollection at 0x1130f7048>"
      ]
     },
     "execution_count": 16,
     "metadata": {},
     "output_type": "execute_result"
    },
    {
     "data": {
      "image/png": "[encoded data removed]",
      "text/plain": [
       "<matplotlib.figure.Figure at 0x111d7cef0>"
      ]
     },
     "metadata": {},
     "output_type": "display_data"
    }
   ],
   "source": [
    "print(\"Max test result: \", max(list_of_test_results_knn), \n",
    "      \" takes \", (list_of_test_results_knn.index(max(list_of_test_results_knn))+1), \" neighbors\")\n",
    "\n",
    "plt.scatter(x=list((range(1, 40))), y=list_of_test_results_knn)\n",
    "\n",
    "print(\"Max test f-measure: \", max(list_of_f_knn), \n",
    "      \" takes \", (list_of_f_knn.index(max(list_of_f_knn))+1), \" neighbors\")\n",
    "\n",
    "plt.scatter(x=list((range(1, 40))), y=list_of_f_knn)"
   ]
  },
  {
   "cell_type": "markdown",
   "metadata": {},
   "source": [
    "Next classifier we'll try to use is Logistic Regression:"
   ]
  },
  {
   "cell_type": "code",
   "execution_count": 17,
   "metadata": {},
   "outputs": [
    {
     "name": "stdout",
     "output_type": "stream",
     "text": [
      "Train result: 0.9998113059202768\nAccuracy: 0.9989359750504495\nAUC-ROC: 0.9993114909781576\nF-measure:  0.9976648683468877\n######################################################\n"
     ]
    },
    {
     "data": {
      "text/plain": [
       "[<matplotlib.lines.Line2D at 0x1135b9240>]"
      ]
     },
     "execution_count": 17,
     "metadata": {},
     "output_type": "execute_result"
    },
    {
     "data": {
      "image/png": "[encoded data removed]",
      "text/plain": [
       "<matplotlib.figure.Figure at 0x1130f7780>"
      ]
     },
     "metadata": {},
     "output_type": "display_data"
    }
   ],
   "source": [
    "logistic_model = LogisticRegression()\n",
    "\n",
    "logistic_model.fit(X_train, y_train)\n",
    "\n",
    "prediction = logistic_model.predict(X_test)\n",
    "\n",
    "#print(\"Test result:\", logistic_model.score(X_test, y_test))\n",
    "\n",
    "print(\"Train result:\", logistic_model.score(X_train, y_train))\n",
    "\n",
    "print(\"Accuracy:\", accuracy_score(y_test, prediction))\n",
    "\n",
    "print(\"AUC-ROC:\", roc_auc_score(y_test, prediction))\n",
    "\n",
    "print(\"F-measure: \", f1_score(y_test, prediction > 0.48))\n",
    "\n",
    "print(\"######################################################\")\n",
    "logistic_model_proba = LogisticRegression()\n",
    "\n",
    "logistic_model_proba.fit(X_train, y_train)\n",
    "\n",
    "prediction_proba = logistic_model.predict_proba(X_test)\n",
    "\n",
    "\n",
    "# Now let's create the ROC-curve and PR-curve to represent our model\n",
    "plt.xlabel(\"False Positive Rate\")\n",
    "plt.ylabel(\"True Positive Rate\")\n",
    "fpr, tpr, _ = roc_curve(y_test, prediction)\n",
    "acc = logistic_model.score(X_test, y_test)\n",
    "auc = roc_auc_score(y_test, prediction)\n",
    "plt.plot(fpr, tpr, label=\"acc:%.2f auc:%.2f\" % (acc, auc), linewidth=3)\n",
    "plt.legend(loc=\"best\")\n",
    "\n",
    "precision, recall, thresholds = precision_recall_curve(y_test, prediction_proba[:, 1])\n",
    "\n",
    "plt.plot(fpr, tpr)\n",
    "\n",
    "plt.plot(recall, precision)"
   ]
  },
  {
   "cell_type": "markdown",
   "metadata": {},
   "source": [
    "Next step we'll take is DecisionTree model:"
   ]
  },
  {
   "cell_type": "code",
   "execution_count": 21,
   "metadata": {},
   "outputs": [
    {
     "name": "stdout",
     "output_type": "stream",
     "text": [
      "Test result (accuracy): 0.998862594019446\nAccuracy: 0.998862594019446\nAUC-ROC: 0.9992640075973409\nF-measure:  0.997504226712825\n######################################################\nAccuracy: 0.998862594019446\nAUC-ROC: 0.9992640075973409\n"
     ]
    }
   ],
   "source": [
    "decision_tree = DecisionTreeClassifier(random_state=divide_seed)\n",
    "\n",
    "decision_tree.fit(X_train, y_train)\n",
    "\n",
    "prediction_tree = decision_tree.predict(X_test)\n",
    "\n",
    "print(\"Test result (accuracy):\", decision_tree.score(X_test, y_test))\n",
    "\n",
    "print(\"Accuracy:\", accuracy_score(y_test, prediction_tree))\n",
    "\n",
    "auc_roc_tree = roc_auc_score(y_test, prediction_tree)\n",
    "\n",
    "print(\"AUC-ROC:\", auc_roc_tree)\n",
    "\n",
    "print(\"F-measure: \", f1_score(y_test, prediction_tree > 0.48))\n",
    "\n",
    "print(\"######################################################\")\n",
    "decision_tree_proba = DecisionTreeClassifier(random_state=divide_seed)\n",
    "\n",
    "decision_tree_proba.fit(X_train, y_train)\n",
    "\n",
    "prediction_tree_proba = decision_tree_proba.predict_proba(X_test)[:, 1]\n",
    "\n",
    "print(\"Accuracy:\", accuracy_score(y_test, prediction_tree_proba > 0.5))\n",
    "\n",
    "auc_roc_tree = roc_auc_score(y_test, prediction_tree_proba)\n",
    "\n",
    "print(\"AUC-ROC:\", auc_roc_tree)"
   ]
  },
  {
   "cell_type": "markdown",
   "metadata": {},
   "source": [
    "Let's try to use bagging in addition:"
   ]
  },
  {
   "cell_type": "code",
   "execution_count": 23,
   "metadata": {},
   "outputs": [
    {
     "name": "stdout",
     "output_type": "stream",
     "text": [
      "######################################################\n"
     ]
    },
    {
     "name": "stdout",
     "output_type": "stream",
     "text": [
      "Accuracy: 0.998862594019446\nAUC-ROC: 0.9992640075973409\nF-measure:  0.997504226712825\n"
     ]
    }
   ],
   "source": [
    "bagging = BaggingClassifier(base_estimator=DecisionTreeClassifier(random_state=divide_seed), n_estimators=100)\n",
    "\n",
    "bagging.fit(X_train, y_train)\n",
    "\n",
    "prediction_bagging = bagging.predict(X_test)\n",
    "\n",
    "auc_roc_tree = roc_auc_score(y_test, prediction_bagging)\n",
    "\n",
    "print(\"######################################################\")\n",
    "bagging_proba = BaggingClassifier(base_estimator=DecisionTreeClassifier(random_state=divide_seed), n_estimators=100)\n",
    "\n",
    "bagging_proba.fit(X_train, y_train)\n",
    "\n",
    "prediction_bagging_proba = bagging_proba.predict_proba(X_test)[:, 1]\n",
    "\n",
    "print(\"Accuracy:\", accuracy_score(y_test, prediction_bagging_proba > 0.5))\n",
    "\n",
    "auc_roc_tree = roc_auc_score(y_test, prediction_bagging_proba)\n",
    "\n",
    "print(\"AUC-ROC:\", auc_roc_tree)\n",
    "\n",
    "print(\"F-measure: \", f1_score(y_test, prediction_bagging > 0.48))"
   ]
  },
  {
   "cell_type": "markdown",
   "metadata": {},
   "source": [
    "Let's continue and bootstrap our sample:"
   ]
  },
  {
   "cell_type": "code",
   "execution_count": 24,
   "metadata": {},
   "outputs": [
    {
     "name": "stdout",
     "output_type": "stream",
     "text": [
      "Accuracy: 0.998862594019446\nROC-AUC: 1.0\nF-measure:  0.997504226712825\n"
     ]
    }
   ],
   "source": [
    "new_predicted_tree = 0\n",
    "new_predicted_tree_proba = np.zeros(X_test.shape[0])\n",
    "\n",
    "\n",
    "for k in range(0, 100):\n",
    "    i_new = np.random.randint(0, X_train.shape[0], int(2000*0.7))\n",
    "    tree_class = DecisionTreeClassifier()\n",
    "    \n",
    "    tree_class.fit(X_train[i_new], array(y_train)[i_new])\n",
    "    \n",
    "    new_predicted_tree_proba += tree_class.predict_proba(X_test)[:, 1]\n",
    "    \n",
    "    new_predicted_tree += tree_class.predict(X_test)\n",
    "    new_predicted_tree = np.divide(new_predicted_tree, 100).astype('int8')\n",
    "    \n",
    "new_predicted_tree_proba = new_predicted_tree_proba / 100\n",
    "    \n",
    "\n",
    "print(\"Accuracy:\", accuracy_score(y_test, new_predicted_tree_proba > 0.5))\n",
    "print(\"ROC-AUC:\", roc_auc_score(y_test, new_predicted_tree_proba))\n",
    "print(\"F-measure: \", f1_score(y_test, new_predicted_tree_proba > 0.48))"
   ]
  },
  {
   "cell_type": "markdown",
   "metadata": {},
   "source": [
    "And finally, let's use Random Forest classifier:"
   ]
  },
  {
   "cell_type": "code",
   "execution_count": 25,
   "metadata": {},
   "outputs": [
    {
     "name": "stdout",
     "output_type": "stream",
     "text": [
      "Number of trees: 50\nPrediction completed by 5.0 %\nTook  3.9357380867004395  seconds\n--------------------\n"
     ]
    },
    {
     "name": "stdout",
     "output_type": "stream",
     "text": [
      "Number of trees: 150\nPrediction completed by 15.0 %\nTook  19.18918800354004  seconds\n--------------------\n"
     ]
    },
    {
     "name": "stdout",
     "output_type": "stream",
     "text": [
      "Number of trees: 250\nPrediction completed by 25.0 %\nTook  46.05903697013855  seconds\n--------------------\n"
     ]
    },
    {
     "name": "stdout",
     "output_type": "stream",
     "text": [
      "Number of trees: 350\nPrediction completed by 35.0 %\nTook  89.32558393478394  seconds\n--------------------\n"
     ]
    },
    {
     "name": "stdout",
     "output_type": "stream",
     "text": [
      "Number of trees: 450\nPrediction completed by 45.0 %\nTook  144.97674107551575  seconds\n--------------------\n"
     ]
    },
    {
     "name": "stdout",
     "output_type": "stream",
     "text": [
      "Number of trees: 550\nPrediction completed by 55.0 %\nTook  211.90183520317078  seconds\n--------------------\n"
     ]
    },
    {
     "name": "stdout",
     "output_type": "stream",
     "text": [
      "Number of trees: 650\nPrediction completed by 65.0 %\nTook  290.25946402549744  seconds\n--------------------\n"
     ]
    },
    {
     "name": "stdout",
     "output_type": "stream",
     "text": [
      "Number of trees: 750\nPrediction completed by 75.0 %\nTook  381.088223695755  seconds\n--------------------\n"
     ]
    },
    {
     "name": "stdout",
     "output_type": "stream",
     "text": [
      "Number of trees: 850\nPrediction completed by 85.0 %\nTook  482.4068808555603  seconds\n--------------------\n"
     ]
    },
    {
     "name": "stdout",
     "output_type": "stream",
     "text": [
      "Number of trees: 950\nPrediction completed by 95.0 %\nTook  590.9114398956299  seconds\n--------------------\n"
     ]
    },
    {
     "name": "stdout",
     "output_type": "stream",
     "text": [
      "Prediction completed by 100%\nPrediction took  1241.4452819824219  seconds\n"
     ]
    }
   ],
   "source": [
    "test_forest_results = list()\n",
    "train_forest_results = list()\n",
    "accuracy_forest_results = list()\n",
    "auc_roc_forest_results = list()\n",
    "forest_f_results = list()\n",
    "time_list = list()\n",
    "\n",
    "accuracy_forest_results_proba = list()\n",
    "auc_roc_forest_results_proba = list()\n",
    "\n",
    "start = time.time()\n",
    "cur_time = start\n",
    "\n",
    "for j in range(10, 1010, 10):\n",
    "    \n",
    "    decision_forest = RandomForestClassifier(random_state=divide_seed, n_estimators=j)\n",
    "    decision_forest_proba = RandomForestClassifier(random_state=divide_seed, n_estimators=j)\n",
    "\n",
    "    decision_forest.fit(X_train, y_train)\n",
    "    \n",
    "    decision_forest_proba.fit(X_train, y_train)\n",
    "\n",
    "    prediction_forest = decision_forest.predict(X_test)\n",
    "    \n",
    "    prediction_forest_pr = decision_forest_proba.predict_proba(X_test)[:, 1]\n",
    "\n",
    "    test_forest_results.append(decision_forest.score(X_test, y_test))\n",
    "\n",
    "    train_forest_results.append(decision_forest.score(X_train, y_train))\n",
    "\n",
    "    accuracy_forest_results.append(accuracy_score(y_test, prediction_forest))\n",
    "    \n",
    "    accuracy_forest_results_proba.append(accuracy_score(y_test, prediction_forest_pr > 0.5))\n",
    "\n",
    "    auc_roc_forest = roc_auc_score(y_test, prediction_forest)\n",
    "    \n",
    "    forest_f_results.append(f1_score(y_test, prediction_forest > 0.48))\n",
    "\n",
    "    auc_roc_forest_results.append(auc_roc_forest)\n",
    "    auc_roc_forest_results_proba.append(roc_auc_score(y_test, prediction_forest_pr))\n",
    "    if j % 50 == 0:\n",
    "        cur_time = time.time() - cur_time\n",
    "        if j % 100 != 0:\n",
    "            time_list.append(cur_time)\n",
    "            print('Number of trees:', j)\n",
    "            print(\"Prediction completed by\", j/10, \"%\")\n",
    "            print(\"Took \", cur_time, \" seconds\")\n",
    "            print(\"--------------------\")\n",
    "print(\"Prediction completed by 100%\")\n",
    "finish = time.time() - start\n",
    "\n",
    "print(\"Prediction took \", finish, \" seconds\")"
   ]
  },
  {
   "cell_type": "code",
   "execution_count": 26,
   "metadata": {},
   "outputs": [
    {
     "name": "stdout",
     "output_type": "stream",
     "text": [
      "Max test result:  0.998862594019446  takes  10  trees\nMax accuracy result:  0.998862594019446  takes  10  trees\nMax auc-roc result:  0.9992640075973409  takes  10  trees\nMax accuracy result with proba:  0.998862594019446  takes  10  trees\nMax auc-roc result with proba:  0.9992640075973409  takes  10  trees\nMax F-measure:  0.997504226712825  takes  10  trees\n"
     ]
    },
    {
     "data": {
      "image/png": "[encoded data removed]",
      "text/plain": [
       "<matplotlib.figure.Figure at 0x111f57550>"
      ]
     },
     "metadata": {},
     "output_type": "display_data"
    },
    {
     "name": "stdout",
     "output_type": "stream",
     "text": [
      "Time taken via number of trees:\n"
     ]
    },
    {
     "data": {
      "image/png": "[encoded data removed]",
      "text/plain": [
       "<matplotlib.figure.Figure at 0x1151f3550>"
      ]
     },
     "metadata": {},
     "output_type": "display_data"
    }
   ],
   "source": [
    "print(\"Max test result: \", max(test_forest_results), \" takes \", (test_forest_results.index(max(test_forest_results))+1)*10, \" trees\")\n",
    "\n",
    "print(\"Max accuracy result: \", max(accuracy_forest_results), \" takes \", (accuracy_forest_results.index(max(accuracy_forest_results))+1)*10, \" trees\")\n",
    "\n",
    "print(\"Max auc-roc result: \", max(auc_roc_forest_results), \" takes \", (auc_roc_forest_results.index(max(auc_roc_forest_results))+1)*10, \" trees\")\n",
    "\n",
    "print(\"Max accuracy result with proba: \", max(accuracy_forest_results_proba), \" takes \", (accuracy_forest_results.index(max(accuracy_forest_results))+1)*10, \" trees\")\n",
    "\n",
    "print(\"Max auc-roc result with proba: \", max(auc_roc_forest_results_proba), \" takes \", (auc_roc_forest_results.index(max(auc_roc_forest_results))+1)*10, \" trees\")\n",
    "\n",
    "print(\"Max F-measure: \", max(forest_f_results), \" takes \", (forest_f_results.index(max(forest_f_results))+1)*10, \" trees\")\n",
    "\n",
    "\n",
    "plt.scatter(x=list((range(1, 101))), y=auc_roc_forest_results)\n",
    "\n",
    "plt.scatter(x=list((range(1, 101))), y=auc_roc_forest_results_proba)\n",
    "\n",
    "plt.scatter(x=list((range(1, 101))), y=forest_f_results)\n",
    "plt.show()\n",
    "\n",
    "print(\"Time taken via number of trees:\")\n",
    "plt.scatter(x=list(range(0, 10)), y=time_list)\n",
    "plt.show()"
   ]
  },
  {
   "cell_type": "code",
   "execution_count": null,
   "metadata": {},
   "outputs": [],
   "source": [
    ""
   ]
  }
 ],
 "metadata": {
  "kernelspec": {
   "display_name": "Python 2",
   "language": "python",
   "name": "python2"
  },
  "language_info": {
   "codemirror_mode": {
    "name": "ipython",
    "version": 2.0
   },
   "file_extension": ".py",
   "mimetype": "text/x-python",
   "name": "python",
   "nbconvert_exporter": "python",
   "pygments_lexer": "ipython2",
   "version": "2.7.6"
  }
 },
 "nbformat": 4,
 "nbformat_minor": 0
}