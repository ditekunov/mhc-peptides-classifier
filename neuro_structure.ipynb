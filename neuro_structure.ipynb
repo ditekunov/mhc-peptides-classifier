{
 "cells": [
  {
   "cell_type": "markdown",
   "metadata": {
    "collapsed": true
   },
   "source": [
    "## Now let's represent theoretical background of the classifier."
   ]
  },
  {
   "cell_type": "markdown",
   "metadata": {},
   "source": [
    "At first, let's represent the sigmoid function for our model.\n",
    "\n",
    "Sigmoid allows our neural network to transform values to probabilities in [0,1], for correct weights displaying."
   ]
  },
  {
   "cell_type": "code",
   "execution_count": 1,
   "metadata": {},
   "outputs": [],
   "source": [
    "def nonlin(x, deriv=False):\n",
    "    if deriv:\n",
    "        return f(x) * (1 - f(x))\n",
    "\n",
    "    return 1 / (1 + np.exp(-x))"
   ]
  },
  {
   "cell_type": "markdown",
   "metadata": {},
   "source": [
    "In general, our neuron is going to look llike this, with the remark, that it is going to be packed into numpy and cv2 abstractions:"
   ]
  },
  {
   "cell_type": "code",
   "execution_count": 3,
   "metadata": {},
   "outputs": [],
   "source": [
    "class Neuron:\n",
    "    def __init__(self, name, input_data, weights, output):\n",
    "        self.name = name\n",
    "        self.input_data = input_data\n",
    "        self.weights = weights\n",
    "        self.output = output\n",
    "pass"
   ]
  },
  {
   "cell_type": "markdown",
   "metadata": {},
   "source": [
    "Also, for informational purposes, I'll demonstrate functions, that will name neurons for non-automatic creation of the architecture of the neurons.\n",
    "\n",
    "In that case, each neuron would have its own instance of a class:"
   ]
  },
  {
   "cell_type": "code",
   "execution_count": 5,
   "metadata": {},
   "outputs": [],
   "source": [
    "outcome_neuron_names = []\n",
    "\n",
    "\n",
    "def naming_of_hlaa():\n",
    "    new_neuron = Neuron()\n",
    "    new_neuron.name = \"is_HLAA\"\n",
    "    input_neuron_web = [new_neuron.name]\n",
    "    return input_neuron_web\n",
    "\n",
    "\n",
    "def naming_of_mhc_neurons():\n",
    "    mhc_names_list = [\"mhc_st_\", \"mhc_nd_\", \"mhc_rd_\"]  \n",
    "    input_neuron_web = []\n",
    "    for number in range(0, 9):\n",
    "        new_list = []\n",
    "        for j in range(0, 3):\n",
    "            new_neuron = Neuron()\n",
    "            new_neuron.name = mhc_names_list[j] + str(number)\n",
    "            new_list.append(new_neuron)\n",
    "        input_neuron_web.append(new_list)\n",
    "    return input_neuron_web\n",
    "\n",
    "\n",
    "def naming_of_sequence_neurons():\n",
    "    letters_list = [\"a\", \"b\", \"c\", \"d\", \"e\", \"f\", \"g\",\n",
    "                    \"h\", \"i\", \"k\", \"l\", \"m\", \"n\", \"p\",\n",
    "                    \"q\", \"r\", \"s\", \"t\", \"v\", \"w\", \"y\"]\n",
    "    input_neuron_web = []\n",
    "    for number in range(0, 9):\n",
    "        new_list = []\n",
    "        for j in range(0, 21):\n",
    "            new_neuron = Neuron()\n",
    "            new_neuron.name = letters_list[j] + str(number)\n",
    "            new_list.append(new_neuron)\n",
    "        input_neuron_web.append(new_list)\n",
    "    return input_neuron_web\n",
    "\n",
    "\n",
    "def naming_of_meas():\n",
    "    new_neuron = Neuron()\n",
    "    new_neuron.name = \"meas\"\n",
    "    input_neuron_web = [new_neuron.name]\n",
    "    return input_neuron_web\n",
    "list_of_hlaa = naming_of_hlaa()  \n",
    "\n",
    "outcome_neuron_names.extend(list_of_hlaa)  \n",
    "list_of_mhc = naming_of_mhc_neurons()  \n",
    "\n",
    "for a in range(0, 9):\n",
    "    for b in range(0, 3):\n",
    "        outcome_neuron_names.append(list_of_mhc[a][b].name)\n",
    "list_of_sequence = naming_of_sequence_neurons()  \n",
    "sequence\n",
    "\n",
    "for a in range(0, 9):\n",
    "    for b in range(0, 21):\n",
    "        outcome_neuron_names.append(list_of_sequence[a][b].name)\n",
    "list_of_meas = naming_of_meas() \n",
    "outcome_neuron_names.extend(list_of_meas)  \n",
    "finalized_neuron_names = outcome_neuron_names  \n",
    "print(len(outcome_neuron_names))"
   ]
  },
  {
   "cell_type": "markdown",
   "metadata": {},
   "source": [
    "But, as we can create comfortamble abstractions, we'll just use a simple neural network with a single hidden layer:"
   ]
  },
  {
   "cell_type": "code",
   "execution_count": 7,
   "metadata": {},
   "outputs": [],
   "source": [
    "import cv2\n",
    "import numpy as np\n",
    "import pandas as pd\n",
    "from sklearn.metrics import accuracy_score\n",
    "mlp = cv2.ml.ANN_MLP_create()\n",
    "mlp.setLayerSizes(np.array([189, 189, 1]))\n",
    "mlp.setActivationFunction(cv2.ml.ANN_MLP_SIGMOID_SYM, 2.5, 1.0)\n",
    "mlp.setTrainMethod(cv2.ml.ANN_MLP_BACKPROP)\n",
    "mlp.setBackpropWeightScale(0.00001)\n",
    "term_mode = (cv2.TERM_CRITERIA_MAX_ITER + cv2.TERM_CRITERIA_EPS)\n",
    "term_max_iter = 10\n",
    "term_eps = 0.01\n",
    "mlp.setTermCriteria((term_mode, term_max_iter, term_eps))\n",
    "mlp.train(X_train_pre, cv2.ml.ROW_SAMPLE, y_train_pre)\n",
    "_, y_hat_train = mlp.predict(X_train_pre)\n",
    "accuracy_score(y_hat_train.round(), y_train_pre)\n",
    "..."
   ]
  },
  {
   "cell_type": "markdown",
   "metadata": {},
   "source": [
    "Now we'll find the number of TP, TN, FP and FN responses:"
   ]
  },
  {
   "cell_type": "code",
   "execution_count": 16,
   "metadata": {},
   "outputs": [
    {
     "name": "stdout",
     "output_type": "stream",
     "text": [
      "TP,     TN,   FP,   FN\n(5176, 14495, 0, 754)\n"
     ]
    }
   ],
   "source": [
    "train_csv = pd.read_csv(\"mhc_test.csv\")\n",
    "\n",
    "listed_csv_pep = pd.Series(train_csv[\"pep_class\"]).tolist()\n",
    "\n",
    "listed_csv_meas = pd.Series(train_csv[\"meas\"]).tolist()\n",
    "\n",
    "length_of_train_csv = len(train_csv)\n",
    "\n",
    "def predict(x):\n",
    "    if x > 0.5:\n",
    "        return 1\n",
    "    else:\n",
    "        return 0\n",
    "\n",
    "\n",
    "def accuracy_test():\n",
    "    real_predict = list()\n",
    "\n",
    "    for i in range(0, length_of_train_csv):\n",
    "        real_predict.append(listed_csv_pep[i])  # Получаем истинные ответы\n",
    "\n",
    "    TP = 0  # True positive\n",
    "    TN = 0  # True negative\n",
    "    FP = 0  # False positive\n",
    "    FN = 0  # False negative\n",
    "\n",
    "    for i in range(0, length_of_train_csv):\n",
    "        if predict(listed_csv_meas[i]) == 1 and real_predict[i] == 1:\n",
    "            TP += 1\n",
    "        elif predict(listed_csv_meas[i]) == 0 and real_predict[i] == 0:\n",
    "            TN += 1\n",
    "        elif predict(listed_csv_meas[i]) == 1 and real_predict[i] == 0:\n",
    "            FP += 1\n",
    "        elif predict(listed_csv_meas[i]) == 0 and real_predict[i] == 1:\n",
    "            FN += 1\n",
    "\n",
    "    return (TP, TN, FP, FN)\n",
    "\n",
    "\n",
    "print(\"TP,     TN,   FP,   FN\")\n",
    "print(accuracy_test())"
   ]
  },
  {
   "cell_type": "markdown",
   "metadata": {},
   "source": [
    "All the quality metrics are represented in 'quallityMetrics.hs' on github."
   ]
  },
  {
   "cell_type": "code",
   "execution_count": null,
   "metadata": {},
   "outputs": [],
   "source": [
    ""
   ]
  }
 ],
 "metadata": {
  "kernelspec": {
   "display_name": "Python 2",
   "language": "python",
   "name": "python2"
  },
  "language_info": {
   "codemirror_mode": {
    "name": "ipython",
    "version": 2.0
   },
   "file_extension": ".py",
   "mimetype": "text/x-python",
   "name": "python",
   "nbconvert_exporter": "python",
   "pygments_lexer": "ipython2",
   "version": "2.7.6"
  }
 },
 "nbformat": 4,
 "nbformat_minor": 0
}